{
 "cells": [
  {
   "cell_type": "code",
   "execution_count": 1,
   "id": "ec18efbb",
   "metadata": {
    "_cell_guid": "b1076dfc-b9ad-4769-8c92-a6c4dae69d19",
    "_uuid": "8f2839f25d086af736a60e9eeb907d3b93b6e0e5",
    "execution": {
     "iopub.execute_input": "2024-04-16T16:01:34.327103Z",
     "iopub.status.busy": "2024-04-16T16:01:34.326361Z",
     "iopub.status.idle": "2024-04-16T16:01:35.150627Z",
     "shell.execute_reply": "2024-04-16T16:01:35.149701Z"
    },
    "papermill": {
     "duration": 0.847145,
     "end_time": "2024-04-16T16:01:35.153283",
     "exception": false,
     "start_time": "2024-04-16T16:01:34.306138",
     "status": "completed"
    },
    "tags": []
   },
   "outputs": [
    {
     "name": "stdout",
     "output_type": "stream",
     "text": [
      "/kaggle/input/titanic/train.csv\n",
      "/kaggle/input/titanic/test.csv\n",
      "/kaggle/input/titanic/gender_submission.csv\n"
     ]
    }
   ],
   "source": [
    "# This Python 3 environment comes with many helpful analytics libraries installed\n",
    "# It is defined by the kaggle/python Docker image: https://github.com/kaggle/docker-python\n",
    "# For example, here's several helpful packages to load\n",
    "\n",
    "import numpy as np # linear algebra\n",
    "import pandas as pd # data processing, CSV file I/O (e.g. pd.read_csv)\n",
    "\n",
    "# Input data files are available in the read-only \"../input/\" directory\n",
    "# For example, running this (by clicking run or pressing Shift+Enter) will list all files under the input directory\n",
    "\n",
    "import os\n",
    "for dirname, _, filenames in os.walk('/kaggle/input'):\n",
    "    for filename in filenames:\n",
    "        print(os.path.join(dirname, filename))\n",
    "\n",
    "# You can write up to 20GB to the current directory (/kaggle/working/) that gets preserved as output when you create a version using \"Save & Run All\" \n",
    "# You can also write temporary files to /kaggle/temp/, but they won't be saved outside of the current session"
   ]
  },
  {
   "cell_type": "markdown",
   "id": "6a78d5d0",
   "metadata": {
    "papermill": {
     "duration": 0.016818,
     "end_time": "2024-04-16T16:01:35.189353",
     "exception": false,
     "start_time": "2024-04-16T16:01:35.172535",
     "status": "completed"
    },
    "tags": []
   },
   "source": [
    "# Import modules\n",
    "\n",
    "Let us import all the basic modules we will be needing for this project."
   ]
  },
  {
   "cell_type": "code",
   "execution_count": 2,
   "id": "424f11e7",
   "metadata": {
    "execution": {
     "iopub.execute_input": "2024-04-16T16:01:35.225902Z",
     "iopub.status.busy": "2024-04-16T16:01:35.224702Z",
     "iopub.status.idle": "2024-04-16T16:01:36.484609Z",
     "shell.execute_reply": "2024-04-16T16:01:36.483419Z"
    },
    "papermill": {
     "duration": 1.280901,
     "end_time": "2024-04-16T16:01:36.487296",
     "exception": false,
     "start_time": "2024-04-16T16:01:35.206395",
     "status": "completed"
    },
    "tags": []
   },
   "outputs": [],
   "source": [
    "import pandas as pd\n",
    "import numpy as np\n",
    "import seaborn as sns\n",
    "import matplotlib.pyplot as plt\n",
    "import warnings\n",
    "warnings.filterwarnings('ignore')\n",
    "%matplotlib inline"
   ]
  },
  {
   "cell_type": "markdown",
   "id": "675581e2",
   "metadata": {
    "papermill": {
     "duration": 0.016676,
     "end_time": "2024-04-16T16:01:36.521355",
     "exception": false,
     "start_time": "2024-04-16T16:01:36.504679",
     "status": "completed"
    },
    "tags": []
   },
   "source": [
    "- pandas - used to perform data manipulation and analysis\n",
    "\n",
    "- numpy - used to perform a wide variety of mathematical operations on arrays\n",
    "\n",
    "- matplotlib - used for data visualization and graphical plotting\n",
    "\n",
    "- seaborn - built on top of matplotlib with similar functionalities\n",
    "\n",
    "- %matplotlib - to enable the inline plotting.\n",
    "\n",
    "- warnings - to manipulate warnings details\n",
    "\n",
    "- filterwarnings('ignore') is to ignore the warnings thrown by the modules (gives clean results)"
   ]
  },
  {
   "cell_type": "markdown",
   "id": "c0b1e944",
   "metadata": {
    "papermill": {
     "duration": 0.016658,
     "end_time": "2024-04-16T16:01:36.554972",
     "exception": false,
     "start_time": "2024-04-16T16:01:36.538314",
     "status": "completed"
    },
    "tags": []
   },
   "source": [
    "# Load the Dataset\n",
    "\n",
    "We will use Kaggle to load the data set."
   ]
  },
  {
   "cell_type": "code",
   "execution_count": 3,
   "id": "d6c8b65f",
   "metadata": {
    "execution": {
     "iopub.execute_input": "2024-04-16T16:01:36.590366Z",
     "iopub.status.busy": "2024-04-16T16:01:36.589949Z",
     "iopub.status.idle": "2024-04-16T16:01:36.634631Z",
     "shell.execute_reply": "2024-04-16T16:01:36.633691Z"
    },
    "papermill": {
     "duration": 0.064837,
     "end_time": "2024-04-16T16:01:36.636495",
     "exception": false,
     "start_time": "2024-04-16T16:01:36.571658",
     "status": "completed"
    },
    "tags": []
   },
   "outputs": [
    {
     "data": {
      "text/html": [
       "<div>\n",
       "<style scoped>\n",
       "    .dataframe tbody tr th:only-of-type {\n",
       "        vertical-align: middle;\n",
       "    }\n",
       "\n",
       "    .dataframe tbody tr th {\n",
       "        vertical-align: top;\n",
       "    }\n",
       "\n",
       "    .dataframe thead th {\n",
       "        text-align: right;\n",
       "    }\n",
       "</style>\n",
       "<table border=\"1\" class=\"dataframe\">\n",
       "  <thead>\n",
       "    <tr style=\"text-align: right;\">\n",
       "      <th></th>\n",
       "      <th>PassengerId</th>\n",
       "      <th>Survived</th>\n",
       "      <th>Pclass</th>\n",
       "      <th>Name</th>\n",
       "      <th>Sex</th>\n",
       "      <th>Age</th>\n",
       "      <th>SibSp</th>\n",
       "      <th>Parch</th>\n",
       "      <th>Ticket</th>\n",
       "      <th>Fare</th>\n",
       "      <th>Cabin</th>\n",
       "      <th>Embarked</th>\n",
       "    </tr>\n",
       "  </thead>\n",
       "  <tbody>\n",
       "    <tr>\n",
       "      <th>0</th>\n",
       "      <td>1</td>\n",
       "      <td>0</td>\n",
       "      <td>3</td>\n",
       "      <td>Braund, Mr. Owen Harris</td>\n",
       "      <td>male</td>\n",
       "      <td>22.0</td>\n",
       "      <td>1</td>\n",
       "      <td>0</td>\n",
       "      <td>A/5 21171</td>\n",
       "      <td>7.2500</td>\n",
       "      <td>NaN</td>\n",
       "      <td>S</td>\n",
       "    </tr>\n",
       "    <tr>\n",
       "      <th>1</th>\n",
       "      <td>2</td>\n",
       "      <td>1</td>\n",
       "      <td>1</td>\n",
       "      <td>Cumings, Mrs. John Bradley (Florence Briggs Th...</td>\n",
       "      <td>female</td>\n",
       "      <td>38.0</td>\n",
       "      <td>1</td>\n",
       "      <td>0</td>\n",
       "      <td>PC 17599</td>\n",
       "      <td>71.2833</td>\n",
       "      <td>C85</td>\n",
       "      <td>C</td>\n",
       "    </tr>\n",
       "    <tr>\n",
       "      <th>2</th>\n",
       "      <td>3</td>\n",
       "      <td>1</td>\n",
       "      <td>3</td>\n",
       "      <td>Heikkinen, Miss. Laina</td>\n",
       "      <td>female</td>\n",
       "      <td>26.0</td>\n",
       "      <td>0</td>\n",
       "      <td>0</td>\n",
       "      <td>STON/O2. 3101282</td>\n",
       "      <td>7.9250</td>\n",
       "      <td>NaN</td>\n",
       "      <td>S</td>\n",
       "    </tr>\n",
       "    <tr>\n",
       "      <th>3</th>\n",
       "      <td>4</td>\n",
       "      <td>1</td>\n",
       "      <td>1</td>\n",
       "      <td>Futrelle, Mrs. Jacques Heath (Lily May Peel)</td>\n",
       "      <td>female</td>\n",
       "      <td>35.0</td>\n",
       "      <td>1</td>\n",
       "      <td>0</td>\n",
       "      <td>113803</td>\n",
       "      <td>53.1000</td>\n",
       "      <td>C123</td>\n",
       "      <td>S</td>\n",
       "    </tr>\n",
       "    <tr>\n",
       "      <th>4</th>\n",
       "      <td>5</td>\n",
       "      <td>0</td>\n",
       "      <td>3</td>\n",
       "      <td>Allen, Mr. William Henry</td>\n",
       "      <td>male</td>\n",
       "      <td>35.0</td>\n",
       "      <td>0</td>\n",
       "      <td>0</td>\n",
       "      <td>373450</td>\n",
       "      <td>8.0500</td>\n",
       "      <td>NaN</td>\n",
       "      <td>S</td>\n",
       "    </tr>\n",
       "  </tbody>\n",
       "</table>\n",
       "</div>"
      ],
      "text/plain": [
       "   PassengerId  Survived  Pclass  \\\n",
       "0            1         0       3   \n",
       "1            2         1       1   \n",
       "2            3         1       3   \n",
       "3            4         1       1   \n",
       "4            5         0       3   \n",
       "\n",
       "                                                Name     Sex   Age  SibSp  \\\n",
       "0                            Braund, Mr. Owen Harris    male  22.0      1   \n",
       "1  Cumings, Mrs. John Bradley (Florence Briggs Th...  female  38.0      1   \n",
       "2                             Heikkinen, Miss. Laina  female  26.0      0   \n",
       "3       Futrelle, Mrs. Jacques Heath (Lily May Peel)  female  35.0      1   \n",
       "4                           Allen, Mr. William Henry    male  35.0      0   \n",
       "\n",
       "   Parch            Ticket     Fare Cabin Embarked  \n",
       "0      0         A/5 21171   7.2500   NaN        S  \n",
       "1      0          PC 17599  71.2833   C85        C  \n",
       "2      0  STON/O2. 3101282   7.9250   NaN        S  \n",
       "3      0            113803  53.1000  C123        S  \n",
       "4      0            373450   8.0500   NaN        S  "
      ]
     },
     "execution_count": 3,
     "metadata": {},
     "output_type": "execute_result"
    }
   ],
   "source": [
    "train = pd.read_csv('/kaggle/input/titanic/train.csv')\n",
    "test = pd.read_csv('/kaggle/input/titanic/test.csv')\n",
    "train.head()"
   ]
  },
  {
   "cell_type": "code",
   "execution_count": 4,
   "id": "424b3ea5",
   "metadata": {
    "execution": {
     "iopub.execute_input": "2024-04-16T16:01:36.673656Z",
     "iopub.status.busy": "2024-04-16T16:01:36.673070Z",
     "iopub.status.idle": "2024-04-16T16:01:36.702781Z",
     "shell.execute_reply": "2024-04-16T16:01:36.702063Z"
    },
    "papermill": {
     "duration": 0.050503,
     "end_time": "2024-04-16T16:01:36.704561",
     "exception": false,
     "start_time": "2024-04-16T16:01:36.654058",
     "status": "completed"
    },
    "tags": []
   },
   "outputs": [
    {
     "data": {
      "text/html": [
       "<div>\n",
       "<style scoped>\n",
       "    .dataframe tbody tr th:only-of-type {\n",
       "        vertical-align: middle;\n",
       "    }\n",
       "\n",
       "    .dataframe tbody tr th {\n",
       "        vertical-align: top;\n",
       "    }\n",
       "\n",
       "    .dataframe thead th {\n",
       "        text-align: right;\n",
       "    }\n",
       "</style>\n",
       "<table border=\"1\" class=\"dataframe\">\n",
       "  <thead>\n",
       "    <tr style=\"text-align: right;\">\n",
       "      <th></th>\n",
       "      <th>PassengerId</th>\n",
       "      <th>Survived</th>\n",
       "      <th>Pclass</th>\n",
       "      <th>Age</th>\n",
       "      <th>SibSp</th>\n",
       "      <th>Parch</th>\n",
       "      <th>Fare</th>\n",
       "    </tr>\n",
       "  </thead>\n",
       "  <tbody>\n",
       "    <tr>\n",
       "      <th>count</th>\n",
       "      <td>891.000000</td>\n",
       "      <td>891.000000</td>\n",
       "      <td>891.000000</td>\n",
       "      <td>714.000000</td>\n",
       "      <td>891.000000</td>\n",
       "      <td>891.000000</td>\n",
       "      <td>891.000000</td>\n",
       "    </tr>\n",
       "    <tr>\n",
       "      <th>mean</th>\n",
       "      <td>446.000000</td>\n",
       "      <td>0.383838</td>\n",
       "      <td>2.308642</td>\n",
       "      <td>29.699118</td>\n",
       "      <td>0.523008</td>\n",
       "      <td>0.381594</td>\n",
       "      <td>32.204208</td>\n",
       "    </tr>\n",
       "    <tr>\n",
       "      <th>std</th>\n",
       "      <td>257.353842</td>\n",
       "      <td>0.486592</td>\n",
       "      <td>0.836071</td>\n",
       "      <td>14.526497</td>\n",
       "      <td>1.102743</td>\n",
       "      <td>0.806057</td>\n",
       "      <td>49.693429</td>\n",
       "    </tr>\n",
       "    <tr>\n",
       "      <th>min</th>\n",
       "      <td>1.000000</td>\n",
       "      <td>0.000000</td>\n",
       "      <td>1.000000</td>\n",
       "      <td>0.420000</td>\n",
       "      <td>0.000000</td>\n",
       "      <td>0.000000</td>\n",
       "      <td>0.000000</td>\n",
       "    </tr>\n",
       "    <tr>\n",
       "      <th>25%</th>\n",
       "      <td>223.500000</td>\n",
       "      <td>0.000000</td>\n",
       "      <td>2.000000</td>\n",
       "      <td>20.125000</td>\n",
       "      <td>0.000000</td>\n",
       "      <td>0.000000</td>\n",
       "      <td>7.910400</td>\n",
       "    </tr>\n",
       "    <tr>\n",
       "      <th>50%</th>\n",
       "      <td>446.000000</td>\n",
       "      <td>0.000000</td>\n",
       "      <td>3.000000</td>\n",
       "      <td>28.000000</td>\n",
       "      <td>0.000000</td>\n",
       "      <td>0.000000</td>\n",
       "      <td>14.454200</td>\n",
       "    </tr>\n",
       "    <tr>\n",
       "      <th>75%</th>\n",
       "      <td>668.500000</td>\n",
       "      <td>1.000000</td>\n",
       "      <td>3.000000</td>\n",
       "      <td>38.000000</td>\n",
       "      <td>1.000000</td>\n",
       "      <td>0.000000</td>\n",
       "      <td>31.000000</td>\n",
       "    </tr>\n",
       "    <tr>\n",
       "      <th>max</th>\n",
       "      <td>891.000000</td>\n",
       "      <td>1.000000</td>\n",
       "      <td>3.000000</td>\n",
       "      <td>80.000000</td>\n",
       "      <td>8.000000</td>\n",
       "      <td>6.000000</td>\n",
       "      <td>512.329200</td>\n",
       "    </tr>\n",
       "  </tbody>\n",
       "</table>\n",
       "</div>"
      ],
      "text/plain": [
       "       PassengerId    Survived      Pclass         Age       SibSp  \\\n",
       "count   891.000000  891.000000  891.000000  714.000000  891.000000   \n",
       "mean    446.000000    0.383838    2.308642   29.699118    0.523008   \n",
       "std     257.353842    0.486592    0.836071   14.526497    1.102743   \n",
       "min       1.000000    0.000000    1.000000    0.420000    0.000000   \n",
       "25%     223.500000    0.000000    2.000000   20.125000    0.000000   \n",
       "50%     446.000000    0.000000    3.000000   28.000000    0.000000   \n",
       "75%     668.500000    1.000000    3.000000   38.000000    1.000000   \n",
       "max     891.000000    1.000000    3.000000   80.000000    8.000000   \n",
       "\n",
       "            Parch        Fare  \n",
       "count  891.000000  891.000000  \n",
       "mean     0.381594   32.204208  \n",
       "std      0.806057   49.693429  \n",
       "min      0.000000    0.000000  \n",
       "25%      0.000000    7.910400  \n",
       "50%      0.000000   14.454200  \n",
       "75%      0.000000   31.000000  \n",
       "max      6.000000  512.329200  "
      ]
     },
     "execution_count": 4,
     "metadata": {},
     "output_type": "execute_result"
    }
   ],
   "source": [
    "## statistical info\n",
    "train.describe()"
   ]
  },
  {
   "cell_type": "code",
   "execution_count": 5,
   "id": "ec8cda5e",
   "metadata": {
    "execution": {
     "iopub.execute_input": "2024-04-16T16:01:36.741069Z",
     "iopub.status.busy": "2024-04-16T16:01:36.740511Z",
     "iopub.status.idle": "2024-04-16T16:01:36.759500Z",
     "shell.execute_reply": "2024-04-16T16:01:36.758699Z"
    },
    "papermill": {
     "duration": 0.03931,
     "end_time": "2024-04-16T16:01:36.761384",
     "exception": false,
     "start_time": "2024-04-16T16:01:36.722074",
     "status": "completed"
    },
    "tags": []
   },
   "outputs": [
    {
     "name": "stdout",
     "output_type": "stream",
     "text": [
      "<class 'pandas.core.frame.DataFrame'>\n",
      "RangeIndex: 891 entries, 0 to 890\n",
      "Data columns (total 12 columns):\n",
      " #   Column       Non-Null Count  Dtype  \n",
      "---  ------       --------------  -----  \n",
      " 0   PassengerId  891 non-null    int64  \n",
      " 1   Survived     891 non-null    int64  \n",
      " 2   Pclass       891 non-null    int64  \n",
      " 3   Name         891 non-null    object \n",
      " 4   Sex          891 non-null    object \n",
      " 5   Age          714 non-null    float64\n",
      " 6   SibSp        891 non-null    int64  \n",
      " 7   Parch        891 non-null    int64  \n",
      " 8   Ticket       891 non-null    object \n",
      " 9   Fare         891 non-null    float64\n",
      " 10  Cabin        204 non-null    object \n",
      " 11  Embarked     889 non-null    object \n",
      "dtypes: float64(2), int64(5), object(5)\n",
      "memory usage: 83.7+ KB\n"
     ]
    }
   ],
   "source": [
    "## datatype info\n",
    "train.info()"
   ]
  },
  {
   "cell_type": "markdown",
   "id": "eb6f397a",
   "metadata": {
    "papermill": {
     "duration": 0.01715,
     "end_time": "2024-04-16T16:01:36.795998",
     "exception": false,
     "start_time": "2024-04-16T16:01:36.778848",
     "status": "completed"
    },
    "tags": []
   },
   "source": [
    "- We will convert the string values into integers later."
   ]
  },
  {
   "cell_type": "markdown",
   "id": "0bb94245",
   "metadata": {
    "papermill": {
     "duration": 0.017032,
     "end_time": "2024-04-16T16:01:36.830800",
     "exception": false,
     "start_time": "2024-04-16T16:01:36.813768",
     "status": "completed"
    },
    "tags": []
   },
   "source": [
    "# Exploratory Data Analysis\n",
    "\n",
    "## Let us explore the categorical columns."
   ]
  },
  {
   "cell_type": "code",
   "execution_count": 6,
   "id": "2cde849a",
   "metadata": {
    "execution": {
     "iopub.execute_input": "2024-04-16T16:01:36.918704Z",
     "iopub.status.busy": "2024-04-16T16:01:36.917806Z",
     "iopub.status.idle": "2024-04-16T16:01:37.129339Z",
     "shell.execute_reply": "2024-04-16T16:01:37.128370Z"
    },
    "papermill": {
     "duration": 0.283375,
     "end_time": "2024-04-16T16:01:37.131412",
     "exception": false,
     "start_time": "2024-04-16T16:01:36.848037",
     "status": "completed"
    },
    "tags": []
   },
   "outputs": [
    {
     "data": {
      "text/plain": [
       "<Axes: xlabel='Survived', ylabel='count'>"
      ]
     },
     "execution_count": 6,
     "metadata": {},
     "output_type": "execute_result"
    },
    {
     "data": {
      "image/png": "[encoded data removed]",
      "text/plain": [
       "<Figure size 640x480 with 1 Axes>"
      ]
     },
     "metadata": {},
     "output_type": "display_data"
    }
   ],
   "source": [
    "## categorical attributes\n",
    "sns.countplot(x = train['Survived'])"
   ]
  },
  {
   "cell_type": "code",
   "execution_count": 7,
   "id": "fd9a13a1",
   "metadata": {
    "execution": {
     "iopub.execute_input": "2024-04-16T16:01:37.169227Z",
     "iopub.status.busy": "2024-04-16T16:01:37.168875Z",
     "iopub.status.idle": "2024-04-16T16:01:37.428909Z",
     "shell.execute_reply": "2024-04-16T16:01:37.427698Z"
    },
    "papermill": {
     "duration": 0.281443,
     "end_time": "2024-04-16T16:01:37.430981",
     "exception": false,
     "start_time": "2024-04-16T16:01:37.149538",
     "status": "completed"
    },
    "tags": []
   },
   "outputs": [
    {
     "data": {
      "text/plain": [
       "<Axes: xlabel='Pclass', ylabel='count'>"
      ]
     },
     "execution_count": 7,
     "metadata": {},
     "output_type": "execute_result"
    },
    {
     "data": {
      "image/png": "[encoded data removed]",
      "text/plain": [
       "<Figure size 640x480 with 1 Axes>"
      ]
     },
     "metadata": {},
     "output_type": "display_data"
    }
   ],
   "source": [
    "sns.countplot(x = train['Pclass'])"
   ]
  },
  {
   "cell_type": "code",
   "execution_count": 8,
   "id": "44385213",
   "metadata": {
    "execution": {
     "iopub.execute_input": "2024-04-16T16:01:37.469247Z",
     "iopub.status.busy": "2024-04-16T16:01:37.468867Z",
     "iopub.status.idle": "2024-04-16T16:01:37.657737Z",
     "shell.execute_reply": "2024-04-16T16:01:37.656690Z"
    },
    "papermill": {
     "duration": 0.210313,
     "end_time": "2024-04-16T16:01:37.659757",
     "exception": false,
     "start_time": "2024-04-16T16:01:37.449444",
     "status": "completed"
    },
    "tags": []
   },
   "outputs": [
    {
     "data": {
      "text/plain": [
       "<Axes: xlabel='Sex', ylabel='count'>"
      ]
     },
     "execution_count": 8,
     "metadata": {},
     "output_type": "execute_result"
    },
    {
     "data": {
      "image/png": "[encoded data removed]",
      "text/plain": [
       "<Figure size 640x480 with 1 Axes>"
      ]
     },
     "metadata": {},
     "output_type": "display_data"
    }
   ],
   "source": [
    "sns.countplot(x = train['Sex'])"
   ]
  },
  {
   "cell_type": "code",
   "execution_count": 9,
   "id": "c4bfe4d0",
   "metadata": {
    "execution": {
     "iopub.execute_input": "2024-04-16T16:01:37.699282Z",
     "iopub.status.busy": "2024-04-16T16:01:37.698931Z",
     "iopub.status.idle": "2024-04-16T16:01:37.927720Z",
     "shell.execute_reply": "2024-04-16T16:01:37.926680Z"
    },
    "papermill": {
     "duration": 0.250765,
     "end_time": "2024-04-16T16:01:37.929806",
     "exception": false,
     "start_time": "2024-04-16T16:01:37.679041",
     "status": "completed"
    },
    "tags": []
   },
   "outputs": [
    {
     "data": {
      "text/plain": [
       "<Axes: xlabel='SibSp', ylabel='count'>"
      ]
     },
     "execution_count": 9,
     "metadata": {},
     "output_type": "execute_result"
    },
    {
     "data": {
      "image/png": "[encoded data removed]",
      "text/plain": [
       "<Figure size 640x480 with 1 Axes>"
      ]
     },
     "metadata": {},
     "output_type": "display_data"
    }
   ],
   "source": [
    "sns.countplot(x = train['SibSp'])"
   ]
  },
  {
   "cell_type": "markdown",
   "id": "274e141d",
   "metadata": {
    "papermill": {
     "duration": 0.019167,
     "end_time": "2024-04-16T16:01:37.968319",
     "exception": false,
     "start_time": "2024-04-16T16:01:37.949152",
     "status": "completed"
    },
    "tags": []
   },
   "source": [
    "- 0 indicates that the passenger is travelling solo."
   ]
  },
  {
   "cell_type": "code",
   "execution_count": 10,
   "id": "773df0b6",
   "metadata": {
    "execution": {
     "iopub.execute_input": "2024-04-16T16:01:38.008864Z",
     "iopub.status.busy": "2024-04-16T16:01:38.008033Z",
     "iopub.status.idle": "2024-04-16T16:01:38.243211Z",
     "shell.execute_reply": "2024-04-16T16:01:38.242213Z"
    },
    "papermill": {
     "duration": 0.257855,
     "end_time": "2024-04-16T16:01:38.245283",
     "exception": false,
     "start_time": "2024-04-16T16:01:37.987428",
     "status": "completed"
    },
    "tags": []
   },
   "outputs": [
    {
     "data": {
      "text/plain": [
       "<Axes: xlabel='Parch', ylabel='count'>"
      ]
     },
     "execution_count": 10,
     "metadata": {},
     "output_type": "execute_result"
    },
    {
     "data": {
      "image/png": "[encoded data removed]",
      "text/plain": [
       "<Figure size 640x480 with 1 Axes>"
      ]
     },
     "metadata": {},
     "output_type": "display_data"
    }
   ],
   "source": [
    "sns.countplot(x = train['Parch'])"
   ]
  },
  {
   "cell_type": "code",
   "execution_count": 11,
   "id": "9db7022c",
   "metadata": {
    "execution": {
     "iopub.execute_input": "2024-04-16T16:01:38.286651Z",
     "iopub.status.busy": "2024-04-16T16:01:38.286037Z",
     "iopub.status.idle": "2024-04-16T16:01:38.482120Z",
     "shell.execute_reply": "2024-04-16T16:01:38.481332Z"
    },
    "papermill": {
     "duration": 0.218943,
     "end_time": "2024-04-16T16:01:38.484038",
     "exception": false,
     "start_time": "2024-04-16T16:01:38.265095",
     "status": "completed"
    },
    "tags": []
   },
   "outputs": [
    {
     "data": {
      "text/plain": [
       "<Axes: xlabel='Embarked', ylabel='count'>"
      ]
     },
     "execution_count": 11,
     "metadata": {},
     "output_type": "execute_result"
    },
    {
     "data": {
      "image/png": "[encoded data removed]",
      "text/plain": [
       "<Figure size 640x480 with 1 Axes>"
      ]
     },
     "metadata": {},
     "output_type": "display_data"
    }
   ],
   "source": [
    "sns.countplot(x = train['Embarked'])"
   ]
  },
  {
   "cell_type": "markdown",
   "id": "7e71863b",
   "metadata": {
    "papermill": {
     "duration": 0.01973,
     "end_time": "2024-04-16T16:01:38.523929",
     "exception": false,
     "start_time": "2024-04-16T16:01:38.504199",
     "status": "completed"
    },
    "tags": []
   },
   "source": [
    "- Embarked contains the boarding port/cities of passengers.\n",
    "\n",
    "- There are three cities with S having the more number of values."
   ]
  },
  {
   "cell_type": "markdown",
   "id": "41985cae",
   "metadata": {
    "papermill": {
     "duration": 0.019523,
     "end_time": "2024-04-16T16:01:38.563217",
     "exception": false,
     "start_time": "2024-04-16T16:01:38.543694",
     "status": "completed"
    },
    "tags": []
   },
   "source": [
    "## Let us explore the numerical columns."
   ]
  },
  {
   "cell_type": "code",
   "execution_count": 12,
   "id": "1e61624b",
   "metadata": {
    "execution": {
     "iopub.execute_input": "2024-04-16T16:01:38.604857Z",
     "iopub.status.busy": "2024-04-16T16:01:38.604187Z",
     "iopub.status.idle": "2024-04-16T16:01:38.932391Z",
     "shell.execute_reply": "2024-04-16T16:01:38.931368Z"
    },
    "papermill": {
     "duration": 0.351662,
     "end_time": "2024-04-16T16:01:38.934668",
     "exception": false,
     "start_time": "2024-04-16T16:01:38.583006",
     "status": "completed"
    },
    "tags": []
   },
   "outputs": [
    {
     "data": {
      "text/plain": [
       "<Axes: ylabel='Density'>"
      ]
     },
     "execution_count": 12,
     "metadata": {},
     "output_type": "execute_result"
    },
    {
     "data": {
      "image/png": "[encoded data removed]",
      "text/plain": [
       "<Figure size 640x480 with 1 Axes>"
      ]
     },
     "metadata": {},
     "output_type": "display_data"
    }
   ],
   "source": [
    "## numerical attributes\n",
    "sns.distplot(x = train['Age'])"
   ]
  },
  {
   "cell_type": "markdown",
   "id": "a779b618",
   "metadata": {
    "papermill": {
     "duration": 0.020323,
     "end_time": "2024-04-16T16:01:38.976074",
     "exception": false,
     "start_time": "2024-04-16T16:01:38.955751",
     "status": "completed"
    },
    "tags": []
   },
   "source": [
    "- The graph shows a bell curve indicating a normal distribution."
   ]
  },
  {
   "cell_type": "code",
   "execution_count": 13,
   "id": "5de42716",
   "metadata": {
    "execution": {
     "iopub.execute_input": "2024-04-16T16:01:39.019428Z",
     "iopub.status.busy": "2024-04-16T16:01:39.018658Z",
     "iopub.status.idle": "2024-04-16T16:01:39.385684Z",
     "shell.execute_reply": "2024-04-16T16:01:39.384598Z"
    },
    "papermill": {
     "duration": 0.391127,
     "end_time": "2024-04-16T16:01:39.387697",
     "exception": false,
     "start_time": "2024-04-16T16:01:38.996570",
     "status": "completed"
    },
    "tags": []
   },
   "outputs": [
    {
     "data": {
      "text/plain": [
       "<Axes: ylabel='Density'>"
      ]
     },
     "execution_count": 13,
     "metadata": {},
     "output_type": "execute_result"
    },
    {
     "data": {
      "image/png": "[encoded data removed]",
      "text/plain": [
       "<Figure size 640x480 with 1 Axes>"
      ]
     },
     "metadata": {},
     "output_type": "display_data"
    }
   ],
   "source": [
    "sns.distplot(x = train['Fare'])"
   ]
  },
  {
   "cell_type": "markdown",
   "id": "d3e260fd",
   "metadata": {
    "papermill": {
     "duration": 0.021549,
     "end_time": "2024-04-16T16:01:39.431885",
     "exception": false,
     "start_time": "2024-04-16T16:01:39.410336",
     "status": "completed"
    },
    "tags": []
   },
   "source": [
    "- We need to do preprocessing these data to convert the right-skewed curve into a normal distribution."
   ]
  },
  {
   "cell_type": "markdown",
   "id": "23c93e0c",
   "metadata": {
    "papermill": {
     "duration": 0.020722,
     "end_time": "2024-04-16T16:01:39.473842",
     "exception": false,
     "start_time": "2024-04-16T16:01:39.453120",
     "status": "completed"
    },
    "tags": []
   },
   "source": [
    "## Let us compare ticket classes by creating a new graph using a pivot table."
   ]
  },
  {
   "cell_type": "code",
   "execution_count": 14,
   "id": "35063dfe",
   "metadata": {
    "execution": {
     "iopub.execute_input": "2024-04-16T16:01:39.519470Z",
     "iopub.status.busy": "2024-04-16T16:01:39.518872Z",
     "iopub.status.idle": "2024-04-16T16:01:39.750760Z",
     "shell.execute_reply": "2024-04-16T16:01:39.749792Z"
    },
    "papermill": {
     "duration": 0.256716,
     "end_time": "2024-04-16T16:01:39.752969",
     "exception": false,
     "start_time": "2024-04-16T16:01:39.496253",
     "status": "completed"
    },
    "tags": []
   },
   "outputs": [
    {
     "data": {
      "image/png": "[encoded data removed]",
      "text/plain": [
       "<Figure size 640x480 with 1 Axes>"
      ]
     },
     "metadata": {},
     "output_type": "display_data"
    }
   ],
   "source": [
    "class_fare = train.pivot_table(index='Pclass', values='Fare')\n",
    "class_fare.plot(kind='bar')\n",
    "plt.xlabel('Pclass')\n",
    "plt.ylabel('Avg. Fare')\n",
    "plt.xticks(rotation=0)\n",
    "plt.show()"
   ]
  },
  {
   "cell_type": "markdown",
   "id": "01cdd531",
   "metadata": {
    "papermill": {
     "duration": 0.020927,
     "end_time": "2024-04-16T16:01:39.795271",
     "exception": false,
     "start_time": "2024-04-16T16:01:39.774344",
     "status": "completed"
    },
    "tags": []
   },
   "source": [
    "- It will help us to make an assumption on fares and the ticket class."
   ]
  },
  {
   "cell_type": "markdown",
   "id": "851fdf6c",
   "metadata": {
    "papermill": {
     "duration": 0.020736,
     "end_time": "2024-04-16T16:01:39.837132",
     "exception": false,
     "start_time": "2024-04-16T16:01:39.816396",
     "status": "completed"
    },
    "tags": []
   },
   "source": [
    "## Let's compare Pclass by creating a new graph using a pivot table."
   ]
  },
  {
   "cell_type": "code",
   "execution_count": 15,
   "id": "1d3d29c9",
   "metadata": {
    "execution": {
     "iopub.execute_input": "2024-04-16T16:01:39.880449Z",
     "iopub.status.busy": "2024-04-16T16:01:39.880090Z",
     "iopub.status.idle": "2024-04-16T16:01:40.085621Z",
     "shell.execute_reply": "2024-04-16T16:01:40.084617Z"
    },
    "papermill": {
     "duration": 0.229919,
     "end_time": "2024-04-16T16:01:40.087914",
     "exception": false,
     "start_time": "2024-04-16T16:01:39.857995",
     "status": "completed"
    },
    "tags": []
   },
   "outputs": [
    {
     "data": {
      "image/png": "[encoded data removed]",
      "text/plain": [
       "<Figure size 640x480 with 1 Axes>"
      ]
     },
     "metadata": {},
     "output_type": "display_data"
    }
   ],
   "source": [
    "class_fare = train.pivot_table(index='Pclass', values='Fare', aggfunc=np.sum)\n",
    "class_fare.plot(kind='bar')\n",
    "plt.xlabel('Pclass')\n",
    "plt.ylabel('Total Fare')\n",
    "plt.xticks(rotation=0)\n",
    "plt.show()"
   ]
  },
  {
   "cell_type": "markdown",
   "id": "b0f9d71e",
   "metadata": {
    "papermill": {
     "duration": 0.021115,
     "end_time": "2024-04-16T16:01:40.130677",
     "exception": false,
     "start_time": "2024-04-16T16:01:40.109562",
     "status": "completed"
    },
    "tags": []
   },
   "source": [
    "- All these visualizations help in understanding the variation of the dataset depending on the attributes."
   ]
  },
  {
   "cell_type": "markdown",
   "id": "65448e8a",
   "metadata": {
    "papermill": {
     "duration": 0.02186,
     "end_time": "2024-04-16T16:01:40.174607",
     "exception": false,
     "start_time": "2024-04-16T16:01:40.152747",
     "status": "completed"
    },
    "tags": []
   },
   "source": [
    "## Let us display the difference between 'Pclass' and 'Survived' with the help of a barplot."
   ]
  },
  {
   "cell_type": "code",
   "execution_count": 16,
   "id": "c61d3b5c",
   "metadata": {
    "execution": {
     "iopub.execute_input": "2024-04-16T16:01:40.219386Z",
     "iopub.status.busy": "2024-04-16T16:01:40.218807Z",
     "iopub.status.idle": "2024-04-16T16:01:40.613404Z",
     "shell.execute_reply": "2024-04-16T16:01:40.612658Z"
    },
    "papermill": {
     "duration": 0.419118,
     "end_time": "2024-04-16T16:01:40.615232",
     "exception": false,
     "start_time": "2024-04-16T16:01:40.196114",
     "status": "completed"
    },
    "tags": []
   },
   "outputs": [
    {
     "data": {
      "text/plain": [
       "<Axes: xlabel='Pclass', ylabel='Fare'>"
      ]
     },
     "execution_count": 16,
     "metadata": {},
     "output_type": "execute_result"
    },
    {
     "data": {
      "image/png": "[encoded data removed]",
      "text/plain": [
       "<Figure size 640x480 with 1 Axes>"
      ]
     },
     "metadata": {},
     "output_type": "display_data"
    }
   ],
   "source": [
    "sns.barplot(data=train, x='Pclass', y='Fare', hue='Survived')"
   ]
  },
  {
   "cell_type": "markdown",
   "id": "dce81cc5",
   "metadata": {
    "papermill": {
     "duration": 0.021739,
     "end_time": "2024-04-16T16:01:40.659557",
     "exception": false,
     "start_time": "2024-04-16T16:01:40.637818",
     "status": "completed"
    },
    "tags": []
   },
   "source": [
    "- This plot has a comparison of survived passengers depending on the ticket fare and passenger class."
   ]
  },
  {
   "cell_type": "markdown",
   "id": "75bb4b80",
   "metadata": {
    "papermill": {
     "duration": 0.022028,
     "end_time": "2024-04-16T16:01:40.704000",
     "exception": false,
     "start_time": "2024-04-16T16:01:40.681972",
     "status": "completed"
    },
    "tags": []
   },
   "source": [
    "## Let's change the horizontal and vertical axis of the graph."
   ]
  },
  {
   "cell_type": "code",
   "execution_count": 17,
   "id": "bbd80a4b",
   "metadata": {
    "execution": {
     "iopub.execute_input": "2024-04-16T16:01:40.749205Z",
     "iopub.status.busy": "2024-04-16T16:01:40.748598Z",
     "iopub.status.idle": "2024-04-16T16:01:41.111806Z",
     "shell.execute_reply": "2024-04-16T16:01:41.110779Z"
    },
    "papermill": {
     "duration": 0.388456,
     "end_time": "2024-04-16T16:01:41.114073",
     "exception": false,
     "start_time": "2024-04-16T16:01:40.725617",
     "status": "completed"
    },
    "tags": []
   },
   "outputs": [
    {
     "data": {
      "text/plain": [
       "<Axes: xlabel='Survived', ylabel='Fare'>"
      ]
     },
     "execution_count": 17,
     "metadata": {},
     "output_type": "execute_result"
    },
    {
     "data": {
      "image/png": "[encoded data removed]",
      "text/plain": [
       "<Figure size 640x480 with 1 Axes>"
      ]
     },
     "metadata": {},
     "output_type": "display_data"
    }
   ],
   "source": [
    "sns.barplot(data=train, x='Survived', y='Fare', hue='Pclass')"
   ]
  },
  {
   "cell_type": "markdown",
   "id": "4066d525",
   "metadata": {
    "papermill": {
     "duration": 0.022368,
     "end_time": "2024-04-16T16:01:41.158838",
     "exception": false,
     "start_time": "2024-04-16T16:01:41.136470",
     "status": "completed"
    },
    "tags": []
   },
   "source": [
    "- Similar to the previous graph, it shows the comparison of survived passengers. "
   ]
  },
  {
   "cell_type": "code",
   "execution_count": 18,
   "id": "e1099f8f",
   "metadata": {
    "execution": {
     "iopub.execute_input": "2024-04-16T16:01:41.205328Z",
     "iopub.status.busy": "2024-04-16T16:01:41.204294Z",
     "iopub.status.idle": "2024-04-16T16:01:41.761838Z",
     "shell.execute_reply": "2024-04-16T16:01:41.760899Z"
    },
    "papermill": {
     "duration": 0.583174,
     "end_time": "2024-04-16T16:01:41.764137",
     "exception": false,
     "start_time": "2024-04-16T16:01:41.180963",
     "status": "completed"
    },
    "tags": []
   },
   "outputs": [
    {
     "data": {
      "text/plain": [
       "<Axes: xlabel='Survived', ylabel='Age'>"
      ]
     },
     "execution_count": 18,
     "metadata": {},
     "output_type": "execute_result"
    },
    {
     "data": {
      "image/png": "[encoded data removed]",
      "text/plain": [
       "<Figure size 640x480 with 1 Axes>"
      ]
     },
     "metadata": {},
     "output_type": "display_data"
    }
   ],
   "source": [
    "sns.barplot(data=train, x='Survived', y='Age', hue='Pclass')"
   ]
  },
  {
   "cell_type": "code",
   "execution_count": 19,
   "id": "bcd9afda",
   "metadata": {
    "execution": {
     "iopub.execute_input": "2024-04-16T16:01:41.811764Z",
     "iopub.status.busy": "2024-04-16T16:01:41.811059Z",
     "iopub.status.idle": "2024-04-16T16:01:42.198625Z",
     "shell.execute_reply": "2024-04-16T16:01:42.197615Z"
    },
    "papermill": {
     "duration": 0.414323,
     "end_time": "2024-04-16T16:01:42.201555",
     "exception": false,
     "start_time": "2024-04-16T16:01:41.787232",
     "status": "completed"
    },
    "tags": []
   },
   "outputs": [
    {
     "data": {
      "image/png": "[encoded data removed]",
      "text/plain": [
       "<Figure size 900x700 with 1 Axes>"
      ]
     },
     "metadata": {},
     "output_type": "display_data"
    }
   ],
   "source": [
    "# Filter data for males and females\n",
    "male_data = train[train['Sex'] == 'male']\n",
    "female_data = train[train['Sex'] == 'female']\n",
    "\n",
    "# Filter data for survived and not survived\n",
    "male_pos = male_data[male_data['Survived'] == 1]['Age'].dropna()\n",
    "male_neg = male_data[male_data['Survived'] == 0]['Age'].dropna()\n",
    "female_pos = female_data[female_data['Survived'] == 1]['Age'].dropna()\n",
    "female_neg = female_data[female_data['Survived'] == 0]['Age'].dropna()\n",
    "\n",
    "# Create the plot\n",
    "fig, ax = plt.subplots(1, 1, figsize=(9, 7))\n",
    "np.random.seed(42)\n",
    "\n",
    "# Male Stripplot\n",
    "ax.scatter(np.random.uniform(-0.3, 0.3, len(male_pos)), male_pos, color='#004c70', edgecolor='lightgray', label='Male (Survived=1)')\n",
    "ax.scatter(np.random.uniform(-0.3, 0.3, len(male_neg)), male_neg, color='#004c70', edgecolor='lightgray', alpha=0.2, label='Male (Survived=0)')\n",
    "\n",
    "# Female Stripplot\n",
    "ax.scatter(1+np.random.uniform(-0.3, 0.3, len(female_pos)), female_pos, color='#990000', edgecolor='lightgray', label='Female (Survived=1)')\n",
    "ax.scatter(1+np.random.uniform(-0.3, 0.3, len(female_neg)), female_neg, color='#990000', edgecolor='lightgray', alpha=0.2, label='Female (Survived=0)')\n",
    "\n",
    "# Set x-axis limits\n",
    "ax.set_xlim(-0.5, 1.5)\n",
    "\n",
    "# Set y-axis limits\n",
    "ax.set_ylim(0, 100)\n",
    "\n",
    "# Set x-axis ticks and labels\n",
    "ax.set_xticks([0, 1])\n",
    "ax.set_xticklabels(['Male', 'Female'])\n",
    "\n",
    "# Set y-axis ticks\n",
    "ax.set_yticks(range(0, 101, 10))\n",
    "\n",
    "# Add legend\n",
    "ax.legend()\n",
    "\n",
    "# Set plot titles\n",
    "ax.set_title('Survival by Gender and Age')\n",
    "ax.set_xlabel('Gender')\n",
    "ax.set_ylabel('Age')\n",
    "\n",
    "# Add text annotation\n",
    "ax.text(0.5, 90, 'Titanic Dataset', fontsize=12, ha='center')\n",
    "\n",
    "plt.show()\n"
   ]
  },
  {
   "cell_type": "markdown",
   "id": "435479c5",
   "metadata": {
    "papermill": {
     "duration": 0.024282,
     "end_time": "2024-04-16T16:01:42.250590",
     "exception": false,
     "start_time": "2024-04-16T16:01:42.226308",
     "status": "completed"
    },
    "tags": []
   },
   "source": [
    "- This code will create a strip plot showing the distribution of ages for male and female passengers, with survived and not survived groups distinguished by different markers and colors. "
   ]
  },
  {
   "cell_type": "markdown",
   "id": "c199be53",
   "metadata": {
    "papermill": {
     "duration": 0.024029,
     "end_time": "2024-04-16T16:01:42.298838",
     "exception": false,
     "start_time": "2024-04-16T16:01:42.274809",
     "status": "completed"
    },
    "tags": []
   },
   "source": [
    "# Data Preprocessing\n",
    "\n",
    "We now combine the train and test datasets."
   ]
  },
  {
   "cell_type": "code",
   "execution_count": 20,
   "id": "a2e0122f",
   "metadata": {
    "execution": {
     "iopub.execute_input": "2024-04-16T16:01:42.356719Z",
     "iopub.status.busy": "2024-04-16T16:01:42.356150Z",
     "iopub.status.idle": "2024-04-16T16:01:42.374272Z",
     "shell.execute_reply": "2024-04-16T16:01:42.373254Z"
    },
    "papermill": {
     "duration": 0.052693,
     "end_time": "2024-04-16T16:01:42.376167",
     "exception": false,
     "start_time": "2024-04-16T16:01:42.323474",
     "status": "completed"
    },
    "tags": []
   },
   "outputs": [
    {
     "data": {
      "text/html": [
       "<div>\n",
       "<style scoped>\n",
       "    .dataframe tbody tr th:only-of-type {\n",
       "        vertical-align: middle;\n",
       "    }\n",
       "\n",
       "    .dataframe tbody tr th {\n",
       "        vertical-align: top;\n",
       "    }\n",
       "\n",
       "    .dataframe thead th {\n",
       "        text-align: right;\n",
       "    }\n",
       "</style>\n",
       "<table border=\"1\" class=\"dataframe\">\n",
       "  <thead>\n",
       "    <tr style=\"text-align: right;\">\n",
       "      <th></th>\n",
       "      <th>PassengerId</th>\n",
       "      <th>Survived</th>\n",
       "      <th>Pclass</th>\n",
       "      <th>Name</th>\n",
       "      <th>Sex</th>\n",
       "      <th>Age</th>\n",
       "      <th>SibSp</th>\n",
       "      <th>Parch</th>\n",
       "      <th>Ticket</th>\n",
       "      <th>Fare</th>\n",
       "      <th>Cabin</th>\n",
       "      <th>Embarked</th>\n",
       "    </tr>\n",
       "  </thead>\n",
       "  <tbody>\n",
       "    <tr>\n",
       "      <th>0</th>\n",
       "      <td>1</td>\n",
       "      <td>0.0</td>\n",
       "      <td>3</td>\n",
       "      <td>Braund, Mr. Owen Harris</td>\n",
       "      <td>male</td>\n",
       "      <td>22.0</td>\n",
       "      <td>1</td>\n",
       "      <td>0</td>\n",
       "      <td>A/5 21171</td>\n",
       "      <td>7.2500</td>\n",
       "      <td>NaN</td>\n",
       "      <td>S</td>\n",
       "    </tr>\n",
       "    <tr>\n",
       "      <th>1</th>\n",
       "      <td>2</td>\n",
       "      <td>1.0</td>\n",
       "      <td>1</td>\n",
       "      <td>Cumings, Mrs. John Bradley (Florence Briggs Th...</td>\n",
       "      <td>female</td>\n",
       "      <td>38.0</td>\n",
       "      <td>1</td>\n",
       "      <td>0</td>\n",
       "      <td>PC 17599</td>\n",
       "      <td>71.2833</td>\n",
       "      <td>C85</td>\n",
       "      <td>C</td>\n",
       "    </tr>\n",
       "    <tr>\n",
       "      <th>2</th>\n",
       "      <td>3</td>\n",
       "      <td>1.0</td>\n",
       "      <td>3</td>\n",
       "      <td>Heikkinen, Miss. Laina</td>\n",
       "      <td>female</td>\n",
       "      <td>26.0</td>\n",
       "      <td>0</td>\n",
       "      <td>0</td>\n",
       "      <td>STON/O2. 3101282</td>\n",
       "      <td>7.9250</td>\n",
       "      <td>NaN</td>\n",
       "      <td>S</td>\n",
       "    </tr>\n",
       "    <tr>\n",
       "      <th>3</th>\n",
       "      <td>4</td>\n",
       "      <td>1.0</td>\n",
       "      <td>1</td>\n",
       "      <td>Futrelle, Mrs. Jacques Heath (Lily May Peel)</td>\n",
       "      <td>female</td>\n",
       "      <td>35.0</td>\n",
       "      <td>1</td>\n",
       "      <td>0</td>\n",
       "      <td>113803</td>\n",
       "      <td>53.1000</td>\n",
       "      <td>C123</td>\n",
       "      <td>S</td>\n",
       "    </tr>\n",
       "    <tr>\n",
       "      <th>4</th>\n",
       "      <td>5</td>\n",
       "      <td>0.0</td>\n",
       "      <td>3</td>\n",
       "      <td>Allen, Mr. William Henry</td>\n",
       "      <td>male</td>\n",
       "      <td>35.0</td>\n",
       "      <td>0</td>\n",
       "      <td>0</td>\n",
       "      <td>373450</td>\n",
       "      <td>8.0500</td>\n",
       "      <td>NaN</td>\n",
       "      <td>S</td>\n",
       "    </tr>\n",
       "  </tbody>\n",
       "</table>\n",
       "</div>"
      ],
      "text/plain": [
       "   PassengerId  Survived  Pclass  \\\n",
       "0            1       0.0       3   \n",
       "1            2       1.0       1   \n",
       "2            3       1.0       3   \n",
       "3            4       1.0       1   \n",
       "4            5       0.0       3   \n",
       "\n",
       "                                                Name     Sex   Age  SibSp  \\\n",
       "0                            Braund, Mr. Owen Harris    male  22.0      1   \n",
       "1  Cumings, Mrs. John Bradley (Florence Briggs Th...  female  38.0      1   \n",
       "2                             Heikkinen, Miss. Laina  female  26.0      0   \n",
       "3       Futrelle, Mrs. Jacques Heath (Lily May Peel)  female  35.0      1   \n",
       "4                           Allen, Mr. William Henry    male  35.0      0   \n",
       "\n",
       "   Parch            Ticket     Fare Cabin Embarked  \n",
       "0      0         A/5 21171   7.2500   NaN        S  \n",
       "1      0          PC 17599  71.2833   C85        C  \n",
       "2      0  STON/O2. 3101282   7.9250   NaN        S  \n",
       "3      0            113803  53.1000  C123        S  \n",
       "4      0            373450   8.0500   NaN        S  "
      ]
     },
     "execution_count": 20,
     "metadata": {},
     "output_type": "execute_result"
    }
   ],
   "source": [
    "train_len = len(train)\n",
    "# combine two dataframes\n",
    "df = pd.concat([train, test], axis=0)\n",
    "df = df.reset_index(drop=True)\n",
    "df.head()"
   ]
  },
  {
   "cell_type": "markdown",
   "id": "8ff16753",
   "metadata": {
    "papermill": {
     "duration": 0.025115,
     "end_time": "2024-04-16T16:01:42.427634",
     "exception": false,
     "start_time": "2024-04-16T16:01:42.402519",
     "status": "completed"
    },
    "tags": []
   },
   "source": [
    "- train_len is for the length of train data.\n",
    "\n",
    "- axis=0 means it will concatenate in respect of row.\n",
    "\n",
    "- axis=1 means it will concatenate in respect of columns.\n",
    "\n",
    "- df.head() displays the first five rows from the data frame."
   ]
  },
  {
   "cell_type": "markdown",
   "id": "3ba3c342",
   "metadata": {
    "papermill": {
     "duration": 0.024102,
     "end_time": "2024-04-16T16:01:42.476323",
     "exception": false,
     "start_time": "2024-04-16T16:01:42.452221",
     "status": "completed"
    },
    "tags": []
   },
   "source": [
    "### Finding Null Values"
   ]
  },
  {
   "cell_type": "code",
   "execution_count": 21,
   "id": "a077386d",
   "metadata": {
    "execution": {
     "iopub.execute_input": "2024-04-16T16:01:42.527541Z",
     "iopub.status.busy": "2024-04-16T16:01:42.526945Z",
     "iopub.status.idle": "2024-04-16T16:01:42.535064Z",
     "shell.execute_reply": "2024-04-16T16:01:42.534177Z"
    },
    "papermill": {
     "duration": 0.035732,
     "end_time": "2024-04-16T16:01:42.536906",
     "exception": false,
     "start_time": "2024-04-16T16:01:42.501174",
     "status": "completed"
    },
    "tags": []
   },
   "outputs": [
    {
     "data": {
      "text/plain": [
       "PassengerId       0\n",
       "Survived        418\n",
       "Pclass            0\n",
       "Name              0\n",
       "Sex               0\n",
       "Age             263\n",
       "SibSp             0\n",
       "Parch             0\n",
       "Ticket            0\n",
       "Fare              1\n",
       "Cabin          1014\n",
       "Embarked          2\n",
       "dtype: int64"
      ]
     },
     "execution_count": 21,
     "metadata": {},
     "output_type": "execute_result"
    }
   ],
   "source": [
    "## find the null values\n",
    "df.isnull().sum()"
   ]
  },
  {
   "cell_type": "markdown",
   "id": "716253ce",
   "metadata": {
    "papermill": {
     "duration": 0.024175,
     "end_time": "2024-04-16T16:01:42.586797",
     "exception": false,
     "start_time": "2024-04-16T16:01:42.562622",
     "status": "completed"
    },
    "tags": []
   },
   "source": [
    "- Survived attributes NULL values are for the test data. Hence, we can avoid its NULL values.\n",
    "\n",
    "- Since the cabin has more than a thousand NULL values, we need to drop the column.\n",
    "\n",
    "- We will fill the missing values for other columns that show null values using the mean."
   ]
  },
  {
   "cell_type": "markdown",
   "id": "39e851a8",
   "metadata": {
    "papermill": {
     "duration": 0.024254,
     "end_time": "2024-04-16T16:01:42.636022",
     "exception": false,
     "start_time": "2024-04-16T16:01:42.611768",
     "status": "completed"
    },
    "tags": []
   },
   "source": [
    "### Let us remove column 'Cabin'."
   ]
  },
  {
   "cell_type": "code",
   "execution_count": 22,
   "id": "8caf1e7c",
   "metadata": {
    "execution": {
     "iopub.execute_input": "2024-04-16T16:01:42.687685Z",
     "iopub.status.busy": "2024-04-16T16:01:42.687061Z",
     "iopub.status.idle": "2024-04-16T16:01:42.707068Z",
     "shell.execute_reply": "2024-04-16T16:01:42.706007Z"
    },
    "papermill": {
     "duration": 0.048625,
     "end_time": "2024-04-16T16:01:42.709216",
     "exception": false,
     "start_time": "2024-04-16T16:01:42.660591",
     "status": "completed"
    },
    "tags": []
   },
   "outputs": [
    {
     "data": {
      "text/html": [
       "<div>\n",
       "<style scoped>\n",
       "    .dataframe tbody tr th:only-of-type {\n",
       "        vertical-align: middle;\n",
       "    }\n",
       "\n",
       "    .dataframe tbody tr th {\n",
       "        vertical-align: top;\n",
       "    }\n",
       "\n",
       "    .dataframe thead th {\n",
       "        text-align: right;\n",
       "    }\n",
       "</style>\n",
       "<table border=\"1\" class=\"dataframe\">\n",
       "  <thead>\n",
       "    <tr style=\"text-align: right;\">\n",
       "      <th></th>\n",
       "      <th>PassengerId</th>\n",
       "      <th>Survived</th>\n",
       "      <th>Pclass</th>\n",
       "      <th>Name</th>\n",
       "      <th>Sex</th>\n",
       "      <th>Age</th>\n",
       "      <th>SibSp</th>\n",
       "      <th>Parch</th>\n",
       "      <th>Ticket</th>\n",
       "      <th>Fare</th>\n",
       "      <th>Embarked</th>\n",
       "    </tr>\n",
       "  </thead>\n",
       "  <tbody>\n",
       "    <tr>\n",
       "      <th>0</th>\n",
       "      <td>1</td>\n",
       "      <td>0.0</td>\n",
       "      <td>3</td>\n",
       "      <td>Braund, Mr. Owen Harris</td>\n",
       "      <td>male</td>\n",
       "      <td>22.0</td>\n",
       "      <td>1</td>\n",
       "      <td>0</td>\n",
       "      <td>A/5 21171</td>\n",
       "      <td>7.2500</td>\n",
       "      <td>S</td>\n",
       "    </tr>\n",
       "    <tr>\n",
       "      <th>1</th>\n",
       "      <td>2</td>\n",
       "      <td>1.0</td>\n",
       "      <td>1</td>\n",
       "      <td>Cumings, Mrs. John Bradley (Florence Briggs Th...</td>\n",
       "      <td>female</td>\n",
       "      <td>38.0</td>\n",
       "      <td>1</td>\n",
       "      <td>0</td>\n",
       "      <td>PC 17599</td>\n",
       "      <td>71.2833</td>\n",
       "      <td>C</td>\n",
       "    </tr>\n",
       "    <tr>\n",
       "      <th>2</th>\n",
       "      <td>3</td>\n",
       "      <td>1.0</td>\n",
       "      <td>3</td>\n",
       "      <td>Heikkinen, Miss. Laina</td>\n",
       "      <td>female</td>\n",
       "      <td>26.0</td>\n",
       "      <td>0</td>\n",
       "      <td>0</td>\n",
       "      <td>STON/O2. 3101282</td>\n",
       "      <td>7.9250</td>\n",
       "      <td>S</td>\n",
       "    </tr>\n",
       "    <tr>\n",
       "      <th>3</th>\n",
       "      <td>4</td>\n",
       "      <td>1.0</td>\n",
       "      <td>1</td>\n",
       "      <td>Futrelle, Mrs. Jacques Heath (Lily May Peel)</td>\n",
       "      <td>female</td>\n",
       "      <td>35.0</td>\n",
       "      <td>1</td>\n",
       "      <td>0</td>\n",
       "      <td>113803</td>\n",
       "      <td>53.1000</td>\n",
       "      <td>S</td>\n",
       "    </tr>\n",
       "    <tr>\n",
       "      <th>4</th>\n",
       "      <td>5</td>\n",
       "      <td>0.0</td>\n",
       "      <td>3</td>\n",
       "      <td>Allen, Mr. William Henry</td>\n",
       "      <td>male</td>\n",
       "      <td>35.0</td>\n",
       "      <td>0</td>\n",
       "      <td>0</td>\n",
       "      <td>373450</td>\n",
       "      <td>8.0500</td>\n",
       "      <td>S</td>\n",
       "    </tr>\n",
       "    <tr>\n",
       "      <th>...</th>\n",
       "      <td>...</td>\n",
       "      <td>...</td>\n",
       "      <td>...</td>\n",
       "      <td>...</td>\n",
       "      <td>...</td>\n",
       "      <td>...</td>\n",
       "      <td>...</td>\n",
       "      <td>...</td>\n",
       "      <td>...</td>\n",
       "      <td>...</td>\n",
       "      <td>...</td>\n",
       "    </tr>\n",
       "    <tr>\n",
       "      <th>1304</th>\n",
       "      <td>1305</td>\n",
       "      <td>NaN</td>\n",
       "      <td>3</td>\n",
       "      <td>Spector, Mr. Woolf</td>\n",
       "      <td>male</td>\n",
       "      <td>NaN</td>\n",
       "      <td>0</td>\n",
       "      <td>0</td>\n",
       "      <td>A.5. 3236</td>\n",
       "      <td>8.0500</td>\n",
       "      <td>S</td>\n",
       "    </tr>\n",
       "    <tr>\n",
       "      <th>1305</th>\n",
       "      <td>1306</td>\n",
       "      <td>NaN</td>\n",
       "      <td>1</td>\n",
       "      <td>Oliva y Ocana, Dona. Fermina</td>\n",
       "      <td>female</td>\n",
       "      <td>39.0</td>\n",
       "      <td>0</td>\n",
       "      <td>0</td>\n",
       "      <td>PC 17758</td>\n",
       "      <td>108.9000</td>\n",
       "      <td>C</td>\n",
       "    </tr>\n",
       "    <tr>\n",
       "      <th>1306</th>\n",
       "      <td>1307</td>\n",
       "      <td>NaN</td>\n",
       "      <td>3</td>\n",
       "      <td>Saether, Mr. Simon Sivertsen</td>\n",
       "      <td>male</td>\n",
       "      <td>38.5</td>\n",
       "      <td>0</td>\n",
       "      <td>0</td>\n",
       "      <td>SOTON/O.Q. 3101262</td>\n",
       "      <td>7.2500</td>\n",
       "      <td>S</td>\n",
       "    </tr>\n",
       "    <tr>\n",
       "      <th>1307</th>\n",
       "      <td>1308</td>\n",
       "      <td>NaN</td>\n",
       "      <td>3</td>\n",
       "      <td>Ware, Mr. Frederick</td>\n",
       "      <td>male</td>\n",
       "      <td>NaN</td>\n",
       "      <td>0</td>\n",
       "      <td>0</td>\n",
       "      <td>359309</td>\n",
       "      <td>8.0500</td>\n",
       "      <td>S</td>\n",
       "    </tr>\n",
       "    <tr>\n",
       "      <th>1308</th>\n",
       "      <td>1309</td>\n",
       "      <td>NaN</td>\n",
       "      <td>3</td>\n",
       "      <td>Peter, Master. Michael J</td>\n",
       "      <td>male</td>\n",
       "      <td>NaN</td>\n",
       "      <td>1</td>\n",
       "      <td>1</td>\n",
       "      <td>2668</td>\n",
       "      <td>22.3583</td>\n",
       "      <td>C</td>\n",
       "    </tr>\n",
       "  </tbody>\n",
       "</table>\n",
       "<p>1309 rows × 11 columns</p>\n",
       "</div>"
      ],
      "text/plain": [
       "      PassengerId  Survived  Pclass  \\\n",
       "0               1       0.0       3   \n",
       "1               2       1.0       1   \n",
       "2               3       1.0       3   \n",
       "3               4       1.0       1   \n",
       "4               5       0.0       3   \n",
       "...           ...       ...     ...   \n",
       "1304         1305       NaN       3   \n",
       "1305         1306       NaN       1   \n",
       "1306         1307       NaN       3   \n",
       "1307         1308       NaN       3   \n",
       "1308         1309       NaN       3   \n",
       "\n",
       "                                                   Name     Sex   Age  SibSp  \\\n",
       "0                               Braund, Mr. Owen Harris    male  22.0      1   \n",
       "1     Cumings, Mrs. John Bradley (Florence Briggs Th...  female  38.0      1   \n",
       "2                                Heikkinen, Miss. Laina  female  26.0      0   \n",
       "3          Futrelle, Mrs. Jacques Heath (Lily May Peel)  female  35.0      1   \n",
       "4                              Allen, Mr. William Henry    male  35.0      0   \n",
       "...                                                 ...     ...   ...    ...   \n",
       "1304                                 Spector, Mr. Woolf    male   NaN      0   \n",
       "1305                       Oliva y Ocana, Dona. Fermina  female  39.0      0   \n",
       "1306                       Saether, Mr. Simon Sivertsen    male  38.5      0   \n",
       "1307                                Ware, Mr. Frederick    male   NaN      0   \n",
       "1308                           Peter, Master. Michael J    male   NaN      1   \n",
       "\n",
       "      Parch              Ticket      Fare Embarked  \n",
       "0         0           A/5 21171    7.2500        S  \n",
       "1         0            PC 17599   71.2833        C  \n",
       "2         0    STON/O2. 3101282    7.9250        S  \n",
       "3         0              113803   53.1000        S  \n",
       "4         0              373450    8.0500        S  \n",
       "...     ...                 ...       ...      ...  \n",
       "1304      0           A.5. 3236    8.0500        S  \n",
       "1305      0            PC 17758  108.9000        C  \n",
       "1306      0  SOTON/O.Q. 3101262    7.2500        S  \n",
       "1307      0              359309    8.0500        S  \n",
       "1308      1                2668   22.3583        C  \n",
       "\n",
       "[1309 rows x 11 columns]"
      ]
     },
     "execution_count": 22,
     "metadata": {},
     "output_type": "execute_result"
    }
   ],
   "source": [
    "# drop or delete the column\n",
    "df = df.drop(columns=['Cabin'], axis=1)\n",
    "df"
   ]
  },
  {
   "cell_type": "markdown",
   "id": "842b8cc0",
   "metadata": {
    "papermill": {
     "duration": 0.025027,
     "end_time": "2024-04-16T16:01:42.759834",
     "exception": false,
     "start_time": "2024-04-16T16:01:42.734807",
     "status": "completed"
    },
    "tags": []
   },
   "source": [
    "### We will use the mean values to fill the missing values for 'Age' and 'Fare'.\n"
   ]
  },
  {
   "cell_type": "code",
   "execution_count": 23,
   "id": "1cc8d67b",
   "metadata": {
    "execution": {
     "iopub.execute_input": "2024-04-16T16:01:42.812427Z",
     "iopub.status.busy": "2024-04-16T16:01:42.811562Z",
     "iopub.status.idle": "2024-04-16T16:01:42.818122Z",
     "shell.execute_reply": "2024-04-16T16:01:42.817191Z"
    },
    "papermill": {
     "duration": 0.034977,
     "end_time": "2024-04-16T16:01:42.819946",
     "exception": false,
     "start_time": "2024-04-16T16:01:42.784969",
     "status": "completed"
    },
    "tags": []
   },
   "outputs": [
    {
     "data": {
      "text/plain": [
       "29.881137667304014"
      ]
     },
     "execution_count": 23,
     "metadata": {},
     "output_type": "execute_result"
    }
   ],
   "source": [
    "# mean value of \"Age\"\n",
    "df['Age'].mean()"
   ]
  },
  {
   "cell_type": "code",
   "execution_count": 24,
   "id": "3fbc396e",
   "metadata": {
    "execution": {
     "iopub.execute_input": "2024-04-16T16:01:42.872100Z",
     "iopub.status.busy": "2024-04-16T16:01:42.871758Z",
     "iopub.status.idle": "2024-04-16T16:01:42.877503Z",
     "shell.execute_reply": "2024-04-16T16:01:42.876809Z"
    },
    "papermill": {
     "duration": 0.034029,
     "end_time": "2024-04-16T16:01:42.879313",
     "exception": false,
     "start_time": "2024-04-16T16:01:42.845284",
     "status": "completed"
    },
    "tags": []
   },
   "outputs": [],
   "source": [
    "# fill missing values using mean of the numerical column\n",
    "df['Age'] = df['Age'].fillna(df['Age'].mean())\n",
    "df['Fare'] = df['Fare'].fillna(df['Fare'].mean())"
   ]
  },
  {
   "cell_type": "markdown",
   "id": "b6b31cf6",
   "metadata": {
    "papermill": {
     "duration": 0.025261,
     "end_time": "2024-04-16T16:01:42.930921",
     "exception": false,
     "start_time": "2024-04-16T16:01:42.905660",
     "status": "completed"
    },
    "tags": []
   },
   "source": [
    "### The mean value of column 'Embarked'"
   ]
  },
  {
   "cell_type": "code",
   "execution_count": 25,
   "id": "f849c663",
   "metadata": {
    "execution": {
     "iopub.execute_input": "2024-04-16T16:01:42.983243Z",
     "iopub.status.busy": "2024-04-16T16:01:42.982597Z",
     "iopub.status.idle": "2024-04-16T16:01:42.988320Z",
     "shell.execute_reply": "2024-04-16T16:01:42.987669Z"
    },
    "papermill": {
     "duration": 0.033917,
     "end_time": "2024-04-16T16:01:42.990108",
     "exception": false,
     "start_time": "2024-04-16T16:01:42.956191",
     "status": "completed"
    },
    "tags": []
   },
   "outputs": [
    {
     "data": {
      "text/plain": [
       "'S'"
      ]
     },
     "execution_count": 25,
     "metadata": {},
     "output_type": "execute_result"
    }
   ],
   "source": [
    "df['Embarked'].mode()[0]"
   ]
  },
  {
   "cell_type": "markdown",
   "id": "e24a4b06",
   "metadata": {
    "papermill": {
     "duration": 0.025174,
     "end_time": "2024-04-16T16:01:43.040970",
     "exception": false,
     "start_time": "2024-04-16T16:01:43.015796",
     "status": "completed"
    },
    "tags": []
   },
   "source": [
    "- The mode values return an dataframe, so we will use subscript to get the value. \n",
    "\n"
   ]
  },
  {
   "cell_type": "code",
   "execution_count": 26,
   "id": "db7a2ac0",
   "metadata": {
    "execution": {
     "iopub.execute_input": "2024-04-16T16:01:43.094120Z",
     "iopub.status.busy": "2024-04-16T16:01:43.093458Z",
     "iopub.status.idle": "2024-04-16T16:01:43.098476Z",
     "shell.execute_reply": "2024-04-16T16:01:43.097806Z"
    },
    "papermill": {
     "duration": 0.033841,
     "end_time": "2024-04-16T16:01:43.100270",
     "exception": false,
     "start_time": "2024-04-16T16:01:43.066429",
     "status": "completed"
    },
    "tags": []
   },
   "outputs": [],
   "source": [
    "# fill missing values using mode of the categorical column\n",
    "df['Embarked'] = df['Embarked'].fillna(df['Embarked'].mode()[0])"
   ]
  },
  {
   "cell_type": "markdown",
   "id": "3ab51a0c",
   "metadata": {
    "papermill": {
     "duration": 0.025238,
     "end_time": "2024-04-16T16:01:43.150952",
     "exception": false,
     "start_time": "2024-04-16T16:01:43.125714",
     "status": "completed"
    },
    "tags": []
   },
   "source": [
    "- We use mode to fill the missing values of the categorial column.\n",
    "\n"
   ]
  },
  {
   "cell_type": "markdown",
   "id": "aa67ef17",
   "metadata": {
    "papermill": {
     "duration": 0.025093,
     "end_time": "2024-04-16T16:01:43.201475",
     "exception": false,
     "start_time": "2024-04-16T16:01:43.176382",
     "status": "completed"
    },
    "tags": []
   },
   "source": [
    "## Log transformation for Normal data distribution"
   ]
  },
  {
   "cell_type": "markdown",
   "id": "ef1f3277",
   "metadata": {
    "papermill": {
     "duration": 0.024953,
     "end_time": "2024-04-16T16:01:43.251684",
     "exception": false,
     "start_time": "2024-04-16T16:01:43.226731",
     "status": "completed"
    },
    "tags": []
   },
   "source": [
    " ### We have to normalize the column 'Fare'"
   ]
  },
  {
   "cell_type": "code",
   "execution_count": 27,
   "id": "0c55b32e",
   "metadata": {
    "execution": {
     "iopub.execute_input": "2024-04-16T16:01:43.304342Z",
     "iopub.status.busy": "2024-04-16T16:01:43.303709Z",
     "iopub.status.idle": "2024-04-16T16:01:43.653729Z",
     "shell.execute_reply": "2024-04-16T16:01:43.652630Z"
    },
    "papermill": {
     "duration": 0.378957,
     "end_time": "2024-04-16T16:01:43.655959",
     "exception": false,
     "start_time": "2024-04-16T16:01:43.277002",
     "status": "completed"
    },
    "tags": []
   },
   "outputs": [
    {
     "data": {
      "text/plain": [
       "<Axes: xlabel='Fare', ylabel='Density'>"
      ]
     },
     "execution_count": 27,
     "metadata": {},
     "output_type": "execute_result"
    },
    {
     "data": {
      "image/png": "[encoded data removed]",
      "text/plain": [
       "<Figure size 640x480 with 1 Axes>"
      ]
     },
     "metadata": {},
     "output_type": "display_data"
    }
   ],
   "source": [
    "df['Fare'] = np.log(df['Fare']+1)\n",
    "\n",
    "sns.distplot(df['Fare'])"
   ]
  },
  {
   "cell_type": "markdown",
   "id": "fa885072",
   "metadata": {
    "papermill": {
     "duration": 0.026314,
     "end_time": "2024-04-16T16:01:43.708396",
     "exception": false,
     "start_time": "2024-04-16T16:01:43.682082",
     "status": "completed"
    },
    "tags": []
   },
   "source": [
    "- If the 'fare' has a '0' value then it will result in an error.\n",
    "\n",
    "- To resolve this issue we have to add +1 in log transformation.\n"
   ]
  },
  {
   "cell_type": "markdown",
   "id": "1112ebc8",
   "metadata": {
    "papermill": {
     "duration": 0.025303,
     "end_time": "2024-04-16T16:01:43.759197",
     "exception": false,
     "start_time": "2024-04-16T16:01:43.733894",
     "status": "completed"
    },
    "tags": []
   },
   "source": [
    "## Correlation Matrix\n",
    "\n",
    "A correlation matrix is a table showing correlation coefficients between variables. Each cell in the table shows the correlation between two variables. The value is in the range of -1 to 1. If two variables have a high correlation, we can neglect one variable from those two.\n",
    "\n"
   ]
  },
  {
   "cell_type": "code",
   "execution_count": 28,
   "id": "55f7a79b",
   "metadata": {
    "execution": {
     "iopub.execute_input": "2024-04-16T16:01:43.813304Z",
     "iopub.status.busy": "2024-04-16T16:01:43.812569Z",
     "iopub.status.idle": "2024-04-16T16:01:44.326205Z",
     "shell.execute_reply": "2024-04-16T16:01:44.325157Z"
    },
    "papermill": {
     "duration": 0.54282,
     "end_time": "2024-04-16T16:01:44.328378",
     "exception": false,
     "start_time": "2024-04-16T16:01:43.785558",
     "status": "completed"
    },
    "tags": []
   },
   "outputs": [
    {
     "data": {
      "text/plain": [
       "<Axes: >"
      ]
     },
     "execution_count": 28,
     "metadata": {},
     "output_type": "execute_result"
    },
    {
     "data": {
      "image/png": "[encoded data removed]",
      "text/plain": [
       "<Figure size 1500x900 with 2 Axes>"
      ]
     },
     "metadata": {},
     "output_type": "display_data"
    }
   ],
   "source": [
    "# Select only the numerical columns\n",
    "numerical_df = df.select_dtypes(include=['float64', 'int64'])\n",
    "\n",
    "# Calculate the correlation matrix\n",
    "corr = numerical_df.corr()\n",
    "plt.figure(figsize=(15, 9))\n",
    "sns.heatmap(corr, annot=True, cmap='coolwarm')"
   ]
  },
  {
   "cell_type": "markdown",
   "id": "e4bfed21",
   "metadata": {
    "papermill": {
     "duration": 0.027055,
     "end_time": "2024-04-16T16:01:44.383148",
     "exception": false,
     "start_time": "2024-04-16T16:01:44.356093",
     "status": "completed"
    },
    "tags": []
   },
   "source": [
    "- The 'Fare' shows a negative correlation with Pclass.\n",
    "\n",
    "- Additionally, Fare has some level of correlation with all classes. Hence, the Fare column is an essential attribute for this project."
   ]
  },
  {
   "cell_type": "markdown",
   "id": "5e9043de",
   "metadata": {
    "papermill": {
     "duration": 0.029361,
     "end_time": "2024-04-16T16:01:44.439967",
     "exception": false,
     "start_time": "2024-04-16T16:01:44.410606",
     "status": "completed"
    },
    "tags": []
   },
   "source": [
    "## Dropping Unnecessary Columns"
   ]
  },
  {
   "cell_type": "code",
   "execution_count": 29,
   "id": "8cd1c406",
   "metadata": {
    "execution": {
     "iopub.execute_input": "2024-04-16T16:01:44.497601Z",
     "iopub.status.busy": "2024-04-16T16:01:44.496028Z",
     "iopub.status.idle": "2024-04-16T16:01:44.510904Z",
     "shell.execute_reply": "2024-04-16T16:01:44.510129Z"
    },
    "papermill": {
     "duration": 0.045146,
     "end_time": "2024-04-16T16:01:44.512757",
     "exception": false,
     "start_time": "2024-04-16T16:01:44.467611",
     "status": "completed"
    },
    "tags": []
   },
   "outputs": [
    {
     "data": {
      "text/html": [
       "<div>\n",
       "<style scoped>\n",
       "    .dataframe tbody tr th:only-of-type {\n",
       "        vertical-align: middle;\n",
       "    }\n",
       "\n",
       "    .dataframe tbody tr th {\n",
       "        vertical-align: top;\n",
       "    }\n",
       "\n",
       "    .dataframe thead th {\n",
       "        text-align: right;\n",
       "    }\n",
       "</style>\n",
       "<table border=\"1\" class=\"dataframe\">\n",
       "  <thead>\n",
       "    <tr style=\"text-align: right;\">\n",
       "      <th></th>\n",
       "      <th>PassengerId</th>\n",
       "      <th>Survived</th>\n",
       "      <th>Pclass</th>\n",
       "      <th>Sex</th>\n",
       "      <th>Age</th>\n",
       "      <th>SibSp</th>\n",
       "      <th>Parch</th>\n",
       "      <th>Fare</th>\n",
       "      <th>Embarked</th>\n",
       "    </tr>\n",
       "  </thead>\n",
       "  <tbody>\n",
       "    <tr>\n",
       "      <th>0</th>\n",
       "      <td>1</td>\n",
       "      <td>0.0</td>\n",
       "      <td>3</td>\n",
       "      <td>male</td>\n",
       "      <td>22.0</td>\n",
       "      <td>1</td>\n",
       "      <td>0</td>\n",
       "      <td>2.110213</td>\n",
       "      <td>S</td>\n",
       "    </tr>\n",
       "    <tr>\n",
       "      <th>1</th>\n",
       "      <td>2</td>\n",
       "      <td>1.0</td>\n",
       "      <td>1</td>\n",
       "      <td>female</td>\n",
       "      <td>38.0</td>\n",
       "      <td>1</td>\n",
       "      <td>0</td>\n",
       "      <td>4.280593</td>\n",
       "      <td>C</td>\n",
       "    </tr>\n",
       "    <tr>\n",
       "      <th>2</th>\n",
       "      <td>3</td>\n",
       "      <td>1.0</td>\n",
       "      <td>3</td>\n",
       "      <td>female</td>\n",
       "      <td>26.0</td>\n",
       "      <td>0</td>\n",
       "      <td>0</td>\n",
       "      <td>2.188856</td>\n",
       "      <td>S</td>\n",
       "    </tr>\n",
       "    <tr>\n",
       "      <th>3</th>\n",
       "      <td>4</td>\n",
       "      <td>1.0</td>\n",
       "      <td>1</td>\n",
       "      <td>female</td>\n",
       "      <td>35.0</td>\n",
       "      <td>1</td>\n",
       "      <td>0</td>\n",
       "      <td>3.990834</td>\n",
       "      <td>S</td>\n",
       "    </tr>\n",
       "    <tr>\n",
       "      <th>4</th>\n",
       "      <td>5</td>\n",
       "      <td>0.0</td>\n",
       "      <td>3</td>\n",
       "      <td>male</td>\n",
       "      <td>35.0</td>\n",
       "      <td>0</td>\n",
       "      <td>0</td>\n",
       "      <td>2.202765</td>\n",
       "      <td>S</td>\n",
       "    </tr>\n",
       "  </tbody>\n",
       "</table>\n",
       "</div>"
      ],
      "text/plain": [
       "   PassengerId  Survived  Pclass     Sex   Age  SibSp  Parch      Fare  \\\n",
       "0            1       0.0       3    male  22.0      1      0  2.110213   \n",
       "1            2       1.0       1  female  38.0      1      0  4.280593   \n",
       "2            3       1.0       3  female  26.0      0      0  2.188856   \n",
       "3            4       1.0       1  female  35.0      1      0  3.990834   \n",
       "4            5       0.0       3    male  35.0      0      0  2.202765   \n",
       "\n",
       "  Embarked  \n",
       "0        S  \n",
       "1        C  \n",
       "2        S  \n",
       "3        S  \n",
       "4        S  "
      ]
     },
     "execution_count": 29,
     "metadata": {},
     "output_type": "execute_result"
    }
   ],
   "source": [
    "## drop unnecessary columns\n",
    "df = df.drop(columns=['Name', 'Ticket'], axis=1)\n",
    "df.head()"
   ]
  },
  {
   "cell_type": "markdown",
   "id": "40785b63",
   "metadata": {
    "papermill": {
     "duration": 0.026979,
     "end_time": "2024-04-16T16:01:44.567258",
     "exception": false,
     "start_time": "2024-04-16T16:01:44.540279",
     "status": "completed"
    },
    "tags": []
   },
   "source": [
    "## Label Encoding\n",
    "\n",
    "Label Encoding refers to converting the labels into the numeric form and converting them into the machine-readable form. We will convert the column 'Sex' and 'Embarked'.\n",
    "\n"
   ]
  },
  {
   "cell_type": "code",
   "execution_count": 30,
   "id": "31828c87",
   "metadata": {
    "execution": {
     "iopub.execute_input": "2024-04-16T16:01:44.623615Z",
     "iopub.status.busy": "2024-04-16T16:01:44.622970Z",
     "iopub.status.idle": "2024-04-16T16:01:44.864611Z",
     "shell.execute_reply": "2024-04-16T16:01:44.863624Z"
    },
    "papermill": {
     "duration": 0.27234,
     "end_time": "2024-04-16T16:01:44.866919",
     "exception": false,
     "start_time": "2024-04-16T16:01:44.594579",
     "status": "completed"
    },
    "tags": []
   },
   "outputs": [
    {
     "data": {
      "text/html": [
       "<div>\n",
       "<style scoped>\n",
       "    .dataframe tbody tr th:only-of-type {\n",
       "        vertical-align: middle;\n",
       "    }\n",
       "\n",
       "    .dataframe tbody tr th {\n",
       "        vertical-align: top;\n",
       "    }\n",
       "\n",
       "    .dataframe thead th {\n",
       "        text-align: right;\n",
       "    }\n",
       "</style>\n",
       "<table border=\"1\" class=\"dataframe\">\n",
       "  <thead>\n",
       "    <tr style=\"text-align: right;\">\n",
       "      <th></th>\n",
       "      <th>PassengerId</th>\n",
       "      <th>Survived</th>\n",
       "      <th>Pclass</th>\n",
       "      <th>Sex</th>\n",
       "      <th>Age</th>\n",
       "      <th>SibSp</th>\n",
       "      <th>Parch</th>\n",
       "      <th>Fare</th>\n",
       "      <th>Embarked</th>\n",
       "    </tr>\n",
       "  </thead>\n",
       "  <tbody>\n",
       "    <tr>\n",
       "      <th>0</th>\n",
       "      <td>1</td>\n",
       "      <td>0.0</td>\n",
       "      <td>3</td>\n",
       "      <td>1</td>\n",
       "      <td>22.0</td>\n",
       "      <td>1</td>\n",
       "      <td>0</td>\n",
       "      <td>2.110213</td>\n",
       "      <td>2</td>\n",
       "    </tr>\n",
       "    <tr>\n",
       "      <th>1</th>\n",
       "      <td>2</td>\n",
       "      <td>1.0</td>\n",
       "      <td>1</td>\n",
       "      <td>0</td>\n",
       "      <td>38.0</td>\n",
       "      <td>1</td>\n",
       "      <td>0</td>\n",
       "      <td>4.280593</td>\n",
       "      <td>0</td>\n",
       "    </tr>\n",
       "    <tr>\n",
       "      <th>2</th>\n",
       "      <td>3</td>\n",
       "      <td>1.0</td>\n",
       "      <td>3</td>\n",
       "      <td>0</td>\n",
       "      <td>26.0</td>\n",
       "      <td>0</td>\n",
       "      <td>0</td>\n",
       "      <td>2.188856</td>\n",
       "      <td>2</td>\n",
       "    </tr>\n",
       "    <tr>\n",
       "      <th>3</th>\n",
       "      <td>4</td>\n",
       "      <td>1.0</td>\n",
       "      <td>1</td>\n",
       "      <td>0</td>\n",
       "      <td>35.0</td>\n",
       "      <td>1</td>\n",
       "      <td>0</td>\n",
       "      <td>3.990834</td>\n",
       "      <td>2</td>\n",
       "    </tr>\n",
       "    <tr>\n",
       "      <th>4</th>\n",
       "      <td>5</td>\n",
       "      <td>0.0</td>\n",
       "      <td>3</td>\n",
       "      <td>1</td>\n",
       "      <td>35.0</td>\n",
       "      <td>0</td>\n",
       "      <td>0</td>\n",
       "      <td>2.202765</td>\n",
       "      <td>2</td>\n",
       "    </tr>\n",
       "  </tbody>\n",
       "</table>\n",
       "</div>"
      ],
      "text/plain": [
       "   PassengerId  Survived  Pclass  Sex   Age  SibSp  Parch      Fare  Embarked\n",
       "0            1       0.0       3    1  22.0      1      0  2.110213         2\n",
       "1            2       1.0       1    0  38.0      1      0  4.280593         0\n",
       "2            3       1.0       3    0  26.0      0      0  2.188856         2\n",
       "3            4       1.0       1    0  35.0      1      0  3.990834         2\n",
       "4            5       0.0       3    1  35.0      0      0  2.202765         2"
      ]
     },
     "execution_count": 30,
     "metadata": {},
     "output_type": "execute_result"
    }
   ],
   "source": [
    "from sklearn.preprocessing import LabelEncoder\n",
    "cols = ['Sex', 'Embarked']\n",
    "le = LabelEncoder()\n",
    "\n",
    "for col in cols:\n",
    "    df[col] = le.fit_transform(df[col])\n",
    "df.head()"
   ]
  },
  {
   "cell_type": "markdown",
   "id": "61a4fae0",
   "metadata": {
    "papermill": {
     "duration": 0.026919,
     "end_time": "2024-04-16T16:01:44.921342",
     "exception": false,
     "start_time": "2024-04-16T16:01:44.894423",
     "status": "completed"
    },
    "tags": []
   },
   "source": [
    "- In column 'Sex', the male is converted to '1' and the female is converted to '0'.\n",
    "\n",
    "- Likewise in 'Embarked' the cities are assigned some defined number.\n",
    "\n"
   ]
  },
  {
   "cell_type": "markdown",
   "id": "8015501f",
   "metadata": {
    "papermill": {
     "duration": 0.026938,
     "end_time": "2024-04-16T16:01:44.975366",
     "exception": false,
     "start_time": "2024-04-16T16:01:44.948428",
     "status": "completed"
    },
    "tags": []
   },
   "source": [
    "## Train-Test Split\n",
    "\n",
    "Let's split the dataset for train and test data."
   ]
  },
  {
   "cell_type": "code",
   "execution_count": 31,
   "id": "bfa47c95",
   "metadata": {
    "execution": {
     "iopub.execute_input": "2024-04-16T16:01:45.032056Z",
     "iopub.status.busy": "2024-04-16T16:01:45.031392Z",
     "iopub.status.idle": "2024-04-16T16:01:45.044962Z",
     "shell.execute_reply": "2024-04-16T16:01:45.043982Z"
    },
    "papermill": {
     "duration": 0.044216,
     "end_time": "2024-04-16T16:01:45.046827",
     "exception": false,
     "start_time": "2024-04-16T16:01:45.002611",
     "status": "completed"
    },
    "tags": []
   },
   "outputs": [
    {
     "data": {
      "text/html": [
       "<div>\n",
       "<style scoped>\n",
       "    .dataframe tbody tr th:only-of-type {\n",
       "        vertical-align: middle;\n",
       "    }\n",
       "\n",
       "    .dataframe tbody tr th {\n",
       "        vertical-align: top;\n",
       "    }\n",
       "\n",
       "    .dataframe thead th {\n",
       "        text-align: right;\n",
       "    }\n",
       "</style>\n",
       "<table border=\"1\" class=\"dataframe\">\n",
       "  <thead>\n",
       "    <tr style=\"text-align: right;\">\n",
       "      <th></th>\n",
       "      <th>PassengerId</th>\n",
       "      <th>Survived</th>\n",
       "      <th>Pclass</th>\n",
       "      <th>Sex</th>\n",
       "      <th>Age</th>\n",
       "      <th>SibSp</th>\n",
       "      <th>Parch</th>\n",
       "      <th>Fare</th>\n",
       "      <th>Embarked</th>\n",
       "    </tr>\n",
       "  </thead>\n",
       "  <tbody>\n",
       "    <tr>\n",
       "      <th>0</th>\n",
       "      <td>1</td>\n",
       "      <td>0.0</td>\n",
       "      <td>3</td>\n",
       "      <td>1</td>\n",
       "      <td>22.0</td>\n",
       "      <td>1</td>\n",
       "      <td>0</td>\n",
       "      <td>2.110213</td>\n",
       "      <td>2</td>\n",
       "    </tr>\n",
       "    <tr>\n",
       "      <th>1</th>\n",
       "      <td>2</td>\n",
       "      <td>1.0</td>\n",
       "      <td>1</td>\n",
       "      <td>0</td>\n",
       "      <td>38.0</td>\n",
       "      <td>1</td>\n",
       "      <td>0</td>\n",
       "      <td>4.280593</td>\n",
       "      <td>0</td>\n",
       "    </tr>\n",
       "    <tr>\n",
       "      <th>2</th>\n",
       "      <td>3</td>\n",
       "      <td>1.0</td>\n",
       "      <td>3</td>\n",
       "      <td>0</td>\n",
       "      <td>26.0</td>\n",
       "      <td>0</td>\n",
       "      <td>0</td>\n",
       "      <td>2.188856</td>\n",
       "      <td>2</td>\n",
       "    </tr>\n",
       "    <tr>\n",
       "      <th>3</th>\n",
       "      <td>4</td>\n",
       "      <td>1.0</td>\n",
       "      <td>1</td>\n",
       "      <td>0</td>\n",
       "      <td>35.0</td>\n",
       "      <td>1</td>\n",
       "      <td>0</td>\n",
       "      <td>3.990834</td>\n",
       "      <td>2</td>\n",
       "    </tr>\n",
       "    <tr>\n",
       "      <th>4</th>\n",
       "      <td>5</td>\n",
       "      <td>0.0</td>\n",
       "      <td>3</td>\n",
       "      <td>1</td>\n",
       "      <td>35.0</td>\n",
       "      <td>0</td>\n",
       "      <td>0</td>\n",
       "      <td>2.202765</td>\n",
       "      <td>2</td>\n",
       "    </tr>\n",
       "  </tbody>\n",
       "</table>\n",
       "</div>"
      ],
      "text/plain": [
       "   PassengerId  Survived  Pclass  Sex   Age  SibSp  Parch      Fare  Embarked\n",
       "0            1       0.0       3    1  22.0      1      0  2.110213         2\n",
       "1            2       1.0       1    0  38.0      1      0  4.280593         0\n",
       "2            3       1.0       3    0  26.0      0      0  2.188856         2\n",
       "3            4       1.0       1    0  35.0      1      0  3.990834         2\n",
       "4            5       0.0       3    1  35.0      0      0  2.202765         2"
      ]
     },
     "execution_count": 31,
     "metadata": {},
     "output_type": "execute_result"
    }
   ],
   "source": [
    "train = df.iloc[:train_len, :]\n",
    "test = df.iloc[train_len:, :]\n",
    "train.head()"
   ]
  },
  {
   "cell_type": "code",
   "execution_count": 32,
   "id": "96c856a8",
   "metadata": {
    "execution": {
     "iopub.execute_input": "2024-04-16T16:01:45.104148Z",
     "iopub.status.busy": "2024-04-16T16:01:45.103518Z",
     "iopub.status.idle": "2024-04-16T16:01:45.116308Z",
     "shell.execute_reply": "2024-04-16T16:01:45.115289Z"
    },
    "papermill": {
     "duration": 0.043614,
     "end_time": "2024-04-16T16:01:45.118215",
     "exception": false,
     "start_time": "2024-04-16T16:01:45.074601",
     "status": "completed"
    },
    "tags": []
   },
   "outputs": [
    {
     "data": {
      "text/html": [
       "<div>\n",
       "<style scoped>\n",
       "    .dataframe tbody tr th:only-of-type {\n",
       "        vertical-align: middle;\n",
       "    }\n",
       "\n",
       "    .dataframe tbody tr th {\n",
       "        vertical-align: top;\n",
       "    }\n",
       "\n",
       "    .dataframe thead th {\n",
       "        text-align: right;\n",
       "    }\n",
       "</style>\n",
       "<table border=\"1\" class=\"dataframe\">\n",
       "  <thead>\n",
       "    <tr style=\"text-align: right;\">\n",
       "      <th></th>\n",
       "      <th>PassengerId</th>\n",
       "      <th>Survived</th>\n",
       "      <th>Pclass</th>\n",
       "      <th>Sex</th>\n",
       "      <th>Age</th>\n",
       "      <th>SibSp</th>\n",
       "      <th>Parch</th>\n",
       "      <th>Fare</th>\n",
       "      <th>Embarked</th>\n",
       "    </tr>\n",
       "  </thead>\n",
       "  <tbody>\n",
       "    <tr>\n",
       "      <th>891</th>\n",
       "      <td>892</td>\n",
       "      <td>NaN</td>\n",
       "      <td>3</td>\n",
       "      <td>1</td>\n",
       "      <td>34.5</td>\n",
       "      <td>0</td>\n",
       "      <td>0</td>\n",
       "      <td>2.178064</td>\n",
       "      <td>1</td>\n",
       "    </tr>\n",
       "    <tr>\n",
       "      <th>892</th>\n",
       "      <td>893</td>\n",
       "      <td>NaN</td>\n",
       "      <td>3</td>\n",
       "      <td>0</td>\n",
       "      <td>47.0</td>\n",
       "      <td>1</td>\n",
       "      <td>0</td>\n",
       "      <td>2.079442</td>\n",
       "      <td>2</td>\n",
       "    </tr>\n",
       "    <tr>\n",
       "      <th>893</th>\n",
       "      <td>894</td>\n",
       "      <td>NaN</td>\n",
       "      <td>2</td>\n",
       "      <td>1</td>\n",
       "      <td>62.0</td>\n",
       "      <td>0</td>\n",
       "      <td>0</td>\n",
       "      <td>2.369075</td>\n",
       "      <td>1</td>\n",
       "    </tr>\n",
       "    <tr>\n",
       "      <th>894</th>\n",
       "      <td>895</td>\n",
       "      <td>NaN</td>\n",
       "      <td>3</td>\n",
       "      <td>1</td>\n",
       "      <td>27.0</td>\n",
       "      <td>0</td>\n",
       "      <td>0</td>\n",
       "      <td>2.268252</td>\n",
       "      <td>2</td>\n",
       "    </tr>\n",
       "    <tr>\n",
       "      <th>895</th>\n",
       "      <td>896</td>\n",
       "      <td>NaN</td>\n",
       "      <td>3</td>\n",
       "      <td>0</td>\n",
       "      <td>22.0</td>\n",
       "      <td>1</td>\n",
       "      <td>1</td>\n",
       "      <td>2.586824</td>\n",
       "      <td>2</td>\n",
       "    </tr>\n",
       "  </tbody>\n",
       "</table>\n",
       "</div>"
      ],
      "text/plain": [
       "     PassengerId  Survived  Pclass  Sex   Age  SibSp  Parch      Fare  \\\n",
       "891          892       NaN       3    1  34.5      0      0  2.178064   \n",
       "892          893       NaN       3    0  47.0      1      0  2.079442   \n",
       "893          894       NaN       2    1  62.0      0      0  2.369075   \n",
       "894          895       NaN       3    1  27.0      0      0  2.268252   \n",
       "895          896       NaN       3    0  22.0      1      1  2.586824   \n",
       "\n",
       "     Embarked  \n",
       "891         1  \n",
       "892         2  \n",
       "893         1  \n",
       "894         2  \n",
       "895         2  "
      ]
     },
     "execution_count": 32,
     "metadata": {},
     "output_type": "execute_result"
    }
   ],
   "source": [
    "test.head()"
   ]
  },
  {
   "cell_type": "code",
   "execution_count": 33,
   "id": "c873bbab",
   "metadata": {
    "execution": {
     "iopub.execute_input": "2024-04-16T16:01:45.176350Z",
     "iopub.status.busy": "2024-04-16T16:01:45.175738Z",
     "iopub.status.idle": "2024-04-16T16:01:45.188698Z",
     "shell.execute_reply": "2024-04-16T16:01:45.187669Z"
    },
    "papermill": {
     "duration": 0.04432,
     "end_time": "2024-04-16T16:01:45.190683",
     "exception": false,
     "start_time": "2024-04-16T16:01:45.146363",
     "status": "completed"
    },
    "tags": []
   },
   "outputs": [
    {
     "data": {
      "text/html": [
       "<div>\n",
       "<style scoped>\n",
       "    .dataframe tbody tr th:only-of-type {\n",
       "        vertical-align: middle;\n",
       "    }\n",
       "\n",
       "    .dataframe tbody tr th {\n",
       "        vertical-align: top;\n",
       "    }\n",
       "\n",
       "    .dataframe thead th {\n",
       "        text-align: right;\n",
       "    }\n",
       "</style>\n",
       "<table border=\"1\" class=\"dataframe\">\n",
       "  <thead>\n",
       "    <tr style=\"text-align: right;\">\n",
       "      <th></th>\n",
       "      <th>Pclass</th>\n",
       "      <th>Sex</th>\n",
       "      <th>Age</th>\n",
       "      <th>SibSp</th>\n",
       "      <th>Parch</th>\n",
       "      <th>Fare</th>\n",
       "      <th>Embarked</th>\n",
       "    </tr>\n",
       "  </thead>\n",
       "  <tbody>\n",
       "    <tr>\n",
       "      <th>0</th>\n",
       "      <td>3</td>\n",
       "      <td>1</td>\n",
       "      <td>22.0</td>\n",
       "      <td>1</td>\n",
       "      <td>0</td>\n",
       "      <td>2.110213</td>\n",
       "      <td>2</td>\n",
       "    </tr>\n",
       "    <tr>\n",
       "      <th>1</th>\n",
       "      <td>1</td>\n",
       "      <td>0</td>\n",
       "      <td>38.0</td>\n",
       "      <td>1</td>\n",
       "      <td>0</td>\n",
       "      <td>4.280593</td>\n",
       "      <td>0</td>\n",
       "    </tr>\n",
       "    <tr>\n",
       "      <th>2</th>\n",
       "      <td>3</td>\n",
       "      <td>0</td>\n",
       "      <td>26.0</td>\n",
       "      <td>0</td>\n",
       "      <td>0</td>\n",
       "      <td>2.188856</td>\n",
       "      <td>2</td>\n",
       "    </tr>\n",
       "    <tr>\n",
       "      <th>3</th>\n",
       "      <td>1</td>\n",
       "      <td>0</td>\n",
       "      <td>35.0</td>\n",
       "      <td>1</td>\n",
       "      <td>0</td>\n",
       "      <td>3.990834</td>\n",
       "      <td>2</td>\n",
       "    </tr>\n",
       "    <tr>\n",
       "      <th>4</th>\n",
       "      <td>3</td>\n",
       "      <td>1</td>\n",
       "      <td>35.0</td>\n",
       "      <td>0</td>\n",
       "      <td>0</td>\n",
       "      <td>2.202765</td>\n",
       "      <td>2</td>\n",
       "    </tr>\n",
       "  </tbody>\n",
       "</table>\n",
       "</div>"
      ],
      "text/plain": [
       "   Pclass  Sex   Age  SibSp  Parch      Fare  Embarked\n",
       "0       3    1  22.0      1      0  2.110213         2\n",
       "1       1    0  38.0      1      0  4.280593         0\n",
       "2       3    0  26.0      0      0  2.188856         2\n",
       "3       1    0  35.0      1      0  3.990834         2\n",
       "4       3    1  35.0      0      0  2.202765         2"
      ]
     },
     "execution_count": 33,
     "metadata": {},
     "output_type": "execute_result"
    }
   ],
   "source": [
    "# input split\n",
    "X = train.drop(columns=['PassengerId', 'Survived'], axis=1)\n",
    "y = train['Survived']\n",
    "X.head()"
   ]
  },
  {
   "cell_type": "markdown",
   "id": "e0b8183e",
   "metadata": {
    "papermill": {
     "duration": 0.027526,
     "end_time": "2024-04-16T16:01:45.246603",
     "exception": false,
     "start_time": "2024-04-16T16:01:45.219077",
     "status": "completed"
    },
    "tags": []
   },
   "source": [
    "# Model Training\n",
    "\n",
    "Now the preprocessing has been done, let's perform the model training and testing.\n",
    "\n",
    "If you train and test the dataset completely, the results will be inaccurate. Hence, we will use 'train_test_split'.\n",
    "\n",
    "We will add random_state with the attribute 42 to get the same split upon re-running.\n",
    "\n",
    "If you don't specify a random state, it will randomly split the data upon re-running giving inconsistent results."
   ]
  },
  {
   "cell_type": "code",
   "execution_count": 34,
   "id": "3fc9c3cb",
   "metadata": {
    "execution": {
     "iopub.execute_input": "2024-04-16T16:01:45.303822Z",
     "iopub.status.busy": "2024-04-16T16:01:45.303442Z",
     "iopub.status.idle": "2024-04-16T16:01:45.398507Z",
     "shell.execute_reply": "2024-04-16T16:01:45.397469Z"
    },
    "papermill": {
     "duration": 0.126826,
     "end_time": "2024-04-16T16:01:45.401167",
     "exception": false,
     "start_time": "2024-04-16T16:01:45.274341",
     "status": "completed"
    },
    "tags": []
   },
   "outputs": [],
   "source": [
    "from sklearn.model_selection import train_test_split, cross_val_score\n",
    "# classify column\n",
    "def classify(model):\n",
    "    x_train, x_test, y_train, y_test = train_test_split(X, y, test_size=0.25, random_state=42)\n",
    "    model.fit(x_train, y_train)\n",
    "    print('Accuracy:', model.score(x_test, y_test))\n",
    "    \n",
    "    score = cross_val_score(model, X, y, cv=5)\n",
    "    print('CV Score:', np.mean(score))"
   ]
  },
  {
   "cell_type": "markdown",
   "id": "329ac07c",
   "metadata": {
    "papermill": {
     "duration": 0.027658,
     "end_time": "2024-04-16T16:01:45.457103",
     "exception": false,
     "start_time": "2024-04-16T16:01:45.429445",
     "status": "completed"
    },
    "tags": []
   },
   "source": [
    "- X contains input attributes and y contains the output attribute.\n",
    "\n",
    "- We use cross val score() for better validation of the model.\n",
    "\n",
    "- Here, cv=5 means that the cross-validation will split the data into 5 parts.\n",
    "\n",
    "- np.abs() will convert the negative score to positive and np.mean() will give the average value of 5 scores.\n",
    "\n",
    "- Let's train our data with different models."
   ]
  },
  {
   "cell_type": "markdown",
   "id": "a66b938a",
   "metadata": {
    "papermill": {
     "duration": 0.028223,
     "end_time": "2024-04-16T16:01:45.513247",
     "exception": false,
     "start_time": "2024-04-16T16:01:45.485024",
     "status": "completed"
    },
    "tags": []
   },
   "source": [
    "## Logistic Regression:"
   ]
  },
  {
   "cell_type": "code",
   "execution_count": 35,
   "id": "44303328",
   "metadata": {
    "execution": {
     "iopub.execute_input": "2024-04-16T16:01:45.570605Z",
     "iopub.status.busy": "2024-04-16T16:01:45.570126Z",
     "iopub.status.idle": "2024-04-16T16:01:45.771031Z",
     "shell.execute_reply": "2024-04-16T16:01:45.769913Z"
    },
    "papermill": {
     "duration": 0.232147,
     "end_time": "2024-04-16T16:01:45.773206",
     "exception": false,
     "start_time": "2024-04-16T16:01:45.541059",
     "status": "completed"
    },
    "tags": []
   },
   "outputs": [
    {
     "name": "stdout",
     "output_type": "stream",
     "text": [
      "Accuracy: 0.8071748878923767\n",
      "CV Score: 0.7833971502102819\n"
     ]
    }
   ],
   "source": [
    "#Logistic Regression:\n",
    "\n",
    "from sklearn.linear_model import LogisticRegression\n",
    "model = LogisticRegression()\n",
    "classify(model)"
   ]
  },
  {
   "cell_type": "markdown",
   "id": "fef2753e",
   "metadata": {
    "papermill": {
     "duration": 0.028065,
     "end_time": "2024-04-16T16:01:45.829861",
     "exception": false,
     "start_time": "2024-04-16T16:01:45.801796",
     "status": "completed"
    },
    "tags": []
   },
   "source": [
    "## Decision Tree:"
   ]
  },
  {
   "cell_type": "code",
   "execution_count": 36,
   "id": "a141d7d8",
   "metadata": {
    "execution": {
     "iopub.execute_input": "2024-04-16T16:01:45.887975Z",
     "iopub.status.busy": "2024-04-16T16:01:45.887580Z",
     "iopub.status.idle": "2024-04-16T16:01:46.013184Z",
     "shell.execute_reply": "2024-04-16T16:01:46.012074Z"
    },
    "papermill": {
     "duration": 0.157332,
     "end_time": "2024-04-16T16:01:46.015421",
     "exception": false,
     "start_time": "2024-04-16T16:01:45.858089",
     "status": "completed"
    },
    "tags": []
   },
   "outputs": [
    {
     "name": "stdout",
     "output_type": "stream",
     "text": [
      "Accuracy: 0.7219730941704036\n",
      "CV Score: 0.769945389492185\n"
     ]
    }
   ],
   "source": [
    "# Decision Tree:\n",
    "\n",
    "from sklearn.tree import DecisionTreeClassifier\n",
    "model = DecisionTreeClassifier()\n",
    "classify(model)"
   ]
  },
  {
   "cell_type": "markdown",
   "id": "6abffb5f",
   "metadata": {
    "papermill": {
     "duration": 0.028041,
     "end_time": "2024-04-16T16:01:46.072050",
     "exception": false,
     "start_time": "2024-04-16T16:01:46.044009",
     "status": "completed"
    },
    "tags": []
   },
   "source": [
    "## Random Forest:"
   ]
  },
  {
   "cell_type": "code",
   "execution_count": 37,
   "id": "b17cf388",
   "metadata": {
    "execution": {
     "iopub.execute_input": "2024-04-16T16:01:46.130738Z",
     "iopub.status.busy": "2024-04-16T16:01:46.130036Z",
     "iopub.status.idle": "2024-04-16T16:01:47.482862Z",
     "shell.execute_reply": "2024-04-16T16:01:47.481704Z"
    },
    "papermill": {
     "duration": 1.38478,
     "end_time": "2024-04-16T16:01:47.485079",
     "exception": false,
     "start_time": "2024-04-16T16:01:46.100299",
     "status": "completed"
    },
    "tags": []
   },
   "outputs": [
    {
     "name": "stdout",
     "output_type": "stream",
     "text": [
      "Accuracy: 0.8071748878923767\n",
      "CV Score: 0.811493314920595\n"
     ]
    }
   ],
   "source": [
    "# Random Forest:\n",
    "\n",
    "from sklearn.ensemble import RandomForestClassifier\n",
    "model = RandomForestClassifier()\n",
    "classify(model)"
   ]
  },
  {
   "cell_type": "markdown",
   "id": "f4fe8d86",
   "metadata": {
    "papermill": {
     "duration": 0.028748,
     "end_time": "2024-04-16T16:01:47.545024",
     "exception": false,
     "start_time": "2024-04-16T16:01:47.516276",
     "status": "completed"
    },
    "tags": []
   },
   "source": [
    "## Extra Trees:\n"
   ]
  },
  {
   "cell_type": "code",
   "execution_count": 38,
   "id": "0df25a59",
   "metadata": {
    "execution": {
     "iopub.execute_input": "2024-04-16T16:01:47.605686Z",
     "iopub.status.busy": "2024-04-16T16:01:47.605294Z",
     "iopub.status.idle": "2024-04-16T16:01:48.690316Z",
     "shell.execute_reply": "2024-04-16T16:01:48.689405Z"
    },
    "papermill": {
     "duration": 1.117936,
     "end_time": "2024-04-16T16:01:48.692543",
     "exception": false,
     "start_time": "2024-04-16T16:01:47.574607",
     "status": "completed"
    },
    "tags": []
   },
   "outputs": [
    {
     "name": "stdout",
     "output_type": "stream",
     "text": [
      "Accuracy: 0.7982062780269058\n",
      "CV Score: 0.7991212102190699\n"
     ]
    }
   ],
   "source": [
    "# Extra Trees:\n",
    "\n",
    "from sklearn.ensemble import ExtraTreesClassifier\n",
    "model = ExtraTreesClassifier()\n",
    "classify(model)"
   ]
  },
  {
   "cell_type": "markdown",
   "id": "6012524d",
   "metadata": {
    "papermill": {
     "duration": 0.028277,
     "end_time": "2024-04-16T16:01:48.750443",
     "exception": false,
     "start_time": "2024-04-16T16:01:48.722166",
     "status": "completed"
    },
    "tags": []
   },
   "source": [
    "## XGBoost:\n",
    "\n"
   ]
  },
  {
   "cell_type": "code",
   "execution_count": 39,
   "id": "f62044df",
   "metadata": {
    "execution": {
     "iopub.execute_input": "2024-04-16T16:01:48.812504Z",
     "iopub.status.busy": "2024-04-16T16:01:48.811906Z",
     "iopub.status.idle": "2024-04-16T16:01:49.430205Z",
     "shell.execute_reply": "2024-04-16T16:01:49.429398Z"
    },
    "papermill": {
     "duration": 0.650921,
     "end_time": "2024-04-16T16:01:49.432476",
     "exception": false,
     "start_time": "2024-04-16T16:01:48.781555",
     "status": "completed"
    },
    "tags": []
   },
   "outputs": [
    {
     "name": "stdout",
     "output_type": "stream",
     "text": [
      "Accuracy: 0.7847533632286996\n",
      "CV Score: 0.8148327160881301\n"
     ]
    }
   ],
   "source": [
    "# XGBoost:\n",
    "\n",
    "from xgboost import XGBClassifier\n",
    "model = XGBClassifier()\n",
    "classify(model)"
   ]
  },
  {
   "cell_type": "markdown",
   "id": "0e4b6db0",
   "metadata": {
    "papermill": {
     "duration": 0.031364,
     "end_time": "2024-04-16T16:01:49.494015",
     "exception": false,
     "start_time": "2024-04-16T16:01:49.462651",
     "status": "completed"
    },
    "tags": []
   },
   "source": [
    "## LightGBM:"
   ]
  },
  {
   "cell_type": "code",
   "execution_count": 40,
   "id": "ab0f742f",
   "metadata": {
    "execution": {
     "iopub.execute_input": "2024-04-16T16:01:49.555799Z",
     "iopub.status.busy": "2024-04-16T16:01:49.554770Z",
     "iopub.status.idle": "2024-04-16T16:01:50.963119Z",
     "shell.execute_reply": "2024-04-16T16:01:50.962037Z"
    },
    "papermill": {
     "duration": 1.44117,
     "end_time": "2024-04-16T16:01:50.965402",
     "exception": false,
     "start_time": "2024-04-16T16:01:49.524232",
     "status": "completed"
    },
    "tags": []
   },
   "outputs": [
    {
     "name": "stdout",
     "output_type": "stream",
     "text": [
      "[LightGBM] [Info] Number of positive: 253, number of negative: 415\n",
      "[LightGBM] [Info] Auto-choosing row-wise multi-threading, the overhead of testing was 0.001963 seconds.\n",
      "You can set `force_row_wise=true` to remove the overhead.\n",
      "And if memory is not enough, you can set `force_col_wise=true`.\n",
      "[LightGBM] [Info] Total Bins 191\n",
      "[LightGBM] [Info] Number of data points in the train set: 668, number of used features: 7\n",
      "[LightGBM] [Info] [binary:BoostFromScore]: pavg=0.378743 -> initscore=-0.494889\n",
      "[LightGBM] [Info] Start training from score -0.494889\n",
      "[LightGBM] [Warning] No further splits with positive gain, best gain: -inf\n",
      "[LightGBM] [Warning] No further splits with positive gain, best gain: -inf\n",
      "[LightGBM] [Warning] No further splits with positive gain, best gain: -inf\n",
      "[LightGBM] [Warning] No further splits with positive gain, best gain: -inf\n",
      "[LightGBM] [Warning] No further splits with positive gain, best gain: -inf\n",
      "[LightGBM] [Warning] No further splits with positive gain, best gain: -inf\n",
      "[LightGBM] [Warning] No further splits with positive gain, best gain: -inf\n",
      "[LightGBM] [Warning] No further splits with positive gain, best gain: -inf\n",
      "[LightGBM] [Warning] No further splits with positive gain, best gain: -inf\n",
      "[LightGBM] [Warning] No further splits with positive gain, best gain: -inf\n",
      "[LightGBM] [Warning] No further splits with positive gain, best gain: -inf\n",
      "[LightGBM] [Warning] No further splits with positive gain, best gain: -inf\n",
      "[LightGBM] [Warning] No further splits with positive gain, best gain: -inf\n",
      "[LightGBM] [Warning] No further splits with positive gain, best gain: -inf\n",
      "[LightGBM] [Warning] No further splits with positive gain, best gain: -inf\n",
      "[LightGBM] [Warning] No further splits with positive gain, best gain: -inf\n",
      "[LightGBM] [Warning] No further splits with positive gain, best gain: -inf\n",
      "[LightGBM] [Warning] No further splits with positive gain, best gain: -inf\n",
      "[LightGBM] [Warning] No further splits with positive gain, best gain: -inf\n",
      "[LightGBM] [Warning] No further splits with positive gain, best gain: -inf\n",
      "[LightGBM] [Warning] No further splits with positive gain, best gain: -inf\n",
      "[LightGBM] [Warning] No further splits with positive gain, best gain: -inf\n",
      "[LightGBM] [Warning] No further splits with positive gain, best gain: -inf\n",
      "[LightGBM] [Warning] No further splits with positive gain, best gain: -inf\n",
      "[LightGBM] [Warning] No further splits with positive gain, best gain: -inf\n",
      "[LightGBM] [Warning] No further splits with positive gain, best gain: -inf\n",
      "[LightGBM] [Warning] No further splits with positive gain, best gain: -inf\n",
      "[LightGBM] [Warning] No further splits with positive gain, best gain: -inf\n",
      "[LightGBM] [Warning] No further splits with positive gain, best gain: -inf\n",
      "[LightGBM] [Warning] No further splits with positive gain, best gain: -inf\n",
      "[LightGBM] [Warning] No further splits with positive gain, best gain: -inf\n",
      "[LightGBM] [Warning] No further splits with positive gain, best gain: -inf\n",
      "[LightGBM] [Warning] No further splits with positive gain, best gain: -inf\n",
      "[LightGBM] [Warning] No further splits with positive gain, best gain: -inf\n",
      "[LightGBM] [Warning] No further splits with positive gain, best gain: -inf\n",
      "[LightGBM] [Warning] No further splits with positive gain, best gain: -inf\n",
      "[LightGBM] [Warning] No further splits with positive gain, best gain: -inf\n",
      "[LightGBM] [Warning] No further splits with positive gain, best gain: -inf\n",
      "[LightGBM] [Warning] No further splits with positive gain, best gain: -inf\n",
      "[LightGBM] [Warning] No further splits with positive gain, best gain: -inf\n",
      "[LightGBM] [Warning] No further splits with positive gain, best gain: -inf\n",
      "[LightGBM] [Warning] No further splits with positive gain, best gain: -inf\n",
      "[LightGBM] [Warning] No further splits with positive gain, best gain: -inf\n",
      "[LightGBM] [Warning] No further splits with positive gain, best gain: -inf\n",
      "[LightGBM] [Warning] No further splits with positive gain, best gain: -inf\n",
      "[LightGBM] [Warning] No further splits with positive gain, best gain: -inf\n",
      "[LightGBM] [Warning] No further splits with positive gain, best gain: -inf\n",
      "[LightGBM] [Warning] No further splits with positive gain, best gain: -inf\n",
      "[LightGBM] [Warning] No further splits with positive gain, best gain: -inf\n",
      "[LightGBM] [Warning] No further splits with positive gain, best gain: -inf\n",
      "[LightGBM] [Warning] No further splits with positive gain, best gain: -inf\n",
      "[LightGBM] [Warning] No further splits with positive gain, best gain: -inf\n",
      "[LightGBM] [Warning] No further splits with positive gain, best gain: -inf\n",
      "[LightGBM] [Warning] No further splits with positive gain, best gain: -inf\n",
      "[LightGBM] [Warning] No further splits with positive gain, best gain: -inf\n",
      "[LightGBM] [Warning] No further splits with positive gain, best gain: -inf\n",
      "[LightGBM] [Warning] No further splits with positive gain, best gain: -inf\n",
      "[LightGBM] [Warning] No further splits with positive gain, best gain: -inf\n",
      "[LightGBM] [Warning] No further splits with positive gain, best gain: -inf\n",
      "[LightGBM] [Warning] No further splits with positive gain, best gain: -inf\n",
      "[LightGBM] [Warning] No further splits with positive gain, best gain: -inf\n",
      "[LightGBM] [Warning] No further splits with positive gain, best gain: -inf\n",
      "[LightGBM] [Warning] No further splits with positive gain, best gain: -inf\n",
      "[LightGBM] [Warning] No further splits with positive gain, best gain: -inf\n",
      "[LightGBM] [Warning] No further splits with positive gain, best gain: -inf\n",
      "[LightGBM] [Warning] No further splits with positive gain, best gain: -inf\n",
      "[LightGBM] [Warning] No further splits with positive gain, best gain: -inf\n",
      "[LightGBM] [Warning] No further splits with positive gain, best gain: -inf\n",
      "[LightGBM] [Warning] No further splits with positive gain, best gain: -inf\n",
      "[LightGBM] [Warning] No further splits with positive gain, best gain: -inf\n",
      "[LightGBM] [Warning] No further splits with positive gain, best gain: -inf\n",
      "[LightGBM] [Warning] No further splits with positive gain, best gain: -inf\n",
      "[LightGBM] [Warning] No further splits with positive gain, best gain: -inf\n",
      "[LightGBM] [Warning] No further splits with positive gain, best gain: -inf\n",
      "[LightGBM] [Warning] No further splits with positive gain, best gain: -inf\n",
      "[LightGBM] [Warning] No further splits with positive gain, best gain: -inf\n",
      "[LightGBM] [Warning] No further splits with positive gain, best gain: -inf\n",
      "[LightGBM] [Warning] No further splits with positive gain, best gain: -inf\n",
      "[LightGBM] [Warning] No further splits with positive gain, best gain: -inf\n",
      "[LightGBM] [Warning] No further splits with positive gain, best gain: -inf\n",
      "[LightGBM] [Warning] No further splits with positive gain, best gain: -inf\n",
      "[LightGBM] [Warning] No further splits with positive gain, best gain: -inf\n",
      "[LightGBM] [Warning] No further splits with positive gain, best gain: -inf\n",
      "[LightGBM] [Warning] No further splits with positive gain, best gain: -inf\n",
      "[LightGBM] [Warning] No further splits with positive gain, best gain: -inf\n",
      "[LightGBM] [Warning] No further splits with positive gain, best gain: -inf\n",
      "[LightGBM] [Warning] No further splits with positive gain, best gain: -inf\n",
      "[LightGBM] [Warning] No further splits with positive gain, best gain: -inf\n",
      "[LightGBM] [Warning] No further splits with positive gain, best gain: -inf\n",
      "[LightGBM] [Warning] No further splits with positive gain, best gain: -inf\n",
      "[LightGBM] [Warning] No further splits with positive gain, best gain: -inf\n",
      "[LightGBM] [Warning] No further splits with positive gain, best gain: -inf\n",
      "[LightGBM] [Warning] No further splits with positive gain, best gain: -inf\n",
      "[LightGBM] [Warning] No further splits with positive gain, best gain: -inf\n",
      "[LightGBM] [Warning] No further splits with positive gain, best gain: -inf\n",
      "[LightGBM] [Warning] No further splits with positive gain, best gain: -inf\n",
      "[LightGBM] [Warning] No further splits with positive gain, best gain: -inf\n",
      "[LightGBM] [Warning] No further splits with positive gain, best gain: -inf\n",
      "[LightGBM] [Warning] No further splits with positive gain, best gain: -inf\n",
      "[LightGBM] [Warning] No further splits with positive gain, best gain: -inf\n",
      "Accuracy: 0.8116591928251121\n",
      "[LightGBM] [Info] Number of positive: 273, number of negative: 439\n",
      "[LightGBM] [Info] Auto-choosing row-wise multi-threading, the overhead of testing was 0.000100 seconds.\n",
      "You can set `force_row_wise=true` to remove the overhead.\n",
      "And if memory is not enough, you can set `force_col_wise=true`.\n",
      "[LightGBM] [Info] Total Bins 203\n",
      "[LightGBM] [Info] Number of data points in the train set: 712, number of used features: 7\n",
      "[LightGBM] [Info] [binary:BoostFromScore]: pavg=0.383427 -> initscore=-0.475028\n",
      "[LightGBM] [Info] Start training from score -0.475028\n",
      "[LightGBM] [Warning] No further splits with positive gain, best gain: -inf\n",
      "[LightGBM] [Warning] No further splits with positive gain, best gain: -inf\n",
      "[LightGBM] [Warning] No further splits with positive gain, best gain: -inf\n",
      "[LightGBM] [Warning] No further splits with positive gain, best gain: -inf\n",
      "[LightGBM] [Warning] No further splits with positive gain, best gain: -inf\n",
      "[LightGBM] [Warning] No further splits with positive gain, best gain: -inf\n",
      "[LightGBM] [Warning] No further splits with positive gain, best gain: -inf\n",
      "[LightGBM] [Warning] No further splits with positive gain, best gain: -inf\n",
      "[LightGBM] [Warning] No further splits with positive gain, best gain: -inf\n",
      "[LightGBM] [Warning] No further splits with positive gain, best gain: -inf\n",
      "[LightGBM] [Warning] No further splits with positive gain, best gain: -inf\n",
      "[LightGBM] [Warning] No further splits with positive gain, best gain: -inf\n",
      "[LightGBM] [Warning] No further splits with positive gain, best gain: -inf\n",
      "[LightGBM] [Warning] No further splits with positive gain, best gain: -inf\n",
      "[LightGBM] [Warning] No further splits with positive gain, best gain: -inf\n",
      "[LightGBM] [Warning] No further splits with positive gain, best gain: -inf\n",
      "[LightGBM] [Warning] No further splits with positive gain, best gain: -inf\n",
      "[LightGBM] [Warning] No further splits with positive gain, best gain: -inf\n",
      "[LightGBM] [Warning] No further splits with positive gain, best gain: -inf\n",
      "[LightGBM] [Warning] No further splits with positive gain, best gain: -inf\n",
      "[LightGBM] [Warning] No further splits with positive gain, best gain: -inf\n",
      "[LightGBM] [Warning] No further splits with positive gain, best gain: -inf\n",
      "[LightGBM] [Warning] No further splits with positive gain, best gain: -inf\n",
      "[LightGBM] [Warning] No further splits with positive gain, best gain: -inf\n",
      "[LightGBM] [Warning] No further splits with positive gain, best gain: -inf\n",
      "[LightGBM] [Warning] No further splits with positive gain, best gain: -inf\n",
      "[LightGBM] [Warning] No further splits with positive gain, best gain: -inf\n",
      "[LightGBM] [Warning] No further splits with positive gain, best gain: -inf\n",
      "[LightGBM] [Warning] No further splits with positive gain, best gain: -inf\n",
      "[LightGBM] [Warning] No further splits with positive gain, best gain: -inf\n",
      "[LightGBM] [Warning] No further splits with positive gain, best gain: -inf\n",
      "[LightGBM] [Warning] No further splits with positive gain, best gain: -inf\n",
      "[LightGBM] [Warning] No further splits with positive gain, best gain: -inf\n",
      "[LightGBM] [Warning] No further splits with positive gain, best gain: -inf\n",
      "[LightGBM] [Warning] No further splits with positive gain, best gain: -inf\n",
      "[LightGBM] [Warning] No further splits with positive gain, best gain: -inf\n",
      "[LightGBM] [Warning] No further splits with positive gain, best gain: -inf\n",
      "[LightGBM] [Warning] No further splits with positive gain, best gain: -inf\n",
      "[LightGBM] [Warning] No further splits with positive gain, best gain: -inf\n",
      "[LightGBM] [Warning] No further splits with positive gain, best gain: -inf\n",
      "[LightGBM] [Warning] No further splits with positive gain, best gain: -inf\n",
      "[LightGBM] [Warning] No further splits with positive gain, best gain: -inf\n",
      "[LightGBM] [Warning] No further splits with positive gain, best gain: -inf\n",
      "[LightGBM] [Warning] No further splits with positive gain, best gain: -inf\n",
      "[LightGBM] [Warning] No further splits with positive gain, best gain: -inf\n",
      "[LightGBM] [Warning] No further splits with positive gain, best gain: -inf\n",
      "[LightGBM] [Warning] No further splits with positive gain, best gain: -inf\n",
      "[LightGBM] [Warning] No further splits with positive gain, best gain: -inf\n",
      "[LightGBM] [Warning] No further splits with positive gain, best gain: -inf\n",
      "[LightGBM] [Warning] No further splits with positive gain, best gain: -inf\n",
      "[LightGBM] [Warning] No further splits with positive gain, best gain: -inf\n",
      "[LightGBM] [Warning] No further splits with positive gain, best gain: -inf\n",
      "[LightGBM] [Warning] No further splits with positive gain, best gain: -inf\n",
      "[LightGBM] [Warning] No further splits with positive gain, best gain: -inf\n",
      "[LightGBM] [Warning] No further splits with positive gain, best gain: -inf\n",
      "[LightGBM] [Warning] No further splits with positive gain, best gain: -inf\n",
      "[LightGBM] [Warning] No further splits with positive gain, best gain: -inf\n",
      "[LightGBM] [Warning] No further splits with positive gain, best gain: -inf\n",
      "[LightGBM] [Warning] No further splits with positive gain, best gain: -inf\n",
      "[LightGBM] [Warning] No further splits with positive gain, best gain: -inf\n",
      "[LightGBM] [Warning] No further splits with positive gain, best gain: -inf\n",
      "[LightGBM] [Warning] No further splits with positive gain, best gain: -inf\n",
      "[LightGBM] [Warning] No further splits with positive gain, best gain: -inf\n",
      "[LightGBM] [Warning] No further splits with positive gain, best gain: -inf\n",
      "[LightGBM] [Warning] No further splits with positive gain, best gain: -inf\n",
      "[LightGBM] [Warning] No further splits with positive gain, best gain: -inf\n",
      "[LightGBM] [Warning] No further splits with positive gain, best gain: -inf\n",
      "[LightGBM] [Warning] No further splits with positive gain, best gain: -inf\n",
      "[LightGBM] [Warning] No further splits with positive gain, best gain: -inf\n",
      "[LightGBM] [Warning] No further splits with positive gain, best gain: -inf\n",
      "[LightGBM] [Warning] No further splits with positive gain, best gain: -inf\n",
      "[LightGBM] [Warning] No further splits with positive gain, best gain: -inf\n",
      "[LightGBM] [Warning] No further splits with positive gain, best gain: -inf\n",
      "[LightGBM] [Warning] No further splits with positive gain, best gain: -inf\n",
      "[LightGBM] [Warning] No further splits with positive gain, best gain: -inf\n",
      "[LightGBM] [Warning] No further splits with positive gain, best gain: -inf\n",
      "[LightGBM] [Warning] No further splits with positive gain, best gain: -inf\n",
      "[LightGBM] [Warning] No further splits with positive gain, best gain: -inf\n",
      "[LightGBM] [Warning] No further splits with positive gain, best gain: -inf\n",
      "[LightGBM] [Warning] No further splits with positive gain, best gain: -inf\n",
      "[LightGBM] [Warning] No further splits with positive gain, best gain: -inf\n",
      "[LightGBM] [Warning] No further splits with positive gain, best gain: -inf\n",
      "[LightGBM] [Warning] No further splits with positive gain, best gain: -inf\n",
      "[LightGBM] [Warning] No further splits with positive gain, best gain: -inf\n",
      "[LightGBM] [Warning] No further splits with positive gain, best gain: -inf\n",
      "[LightGBM] [Warning] No further splits with positive gain, best gain: -inf\n",
      "[LightGBM] [Warning] No further splits with positive gain, best gain: -inf\n",
      "[LightGBM] [Warning] No further splits with positive gain, best gain: -inf\n",
      "[LightGBM] [Warning] No further splits with positive gain, best gain: -inf\n",
      "[LightGBM] [Warning] No further splits with positive gain, best gain: -inf\n",
      "[LightGBM] [Warning] No further splits with positive gain, best gain: -inf\n",
      "[LightGBM] [Warning] No further splits with positive gain, best gain: -inf\n",
      "[LightGBM] [Warning] No further splits with positive gain, best gain: -inf\n",
      "[LightGBM] [Warning] No further splits with positive gain, best gain: -inf\n",
      "[LightGBM] [Warning] No further splits with positive gain, best gain: -inf\n",
      "[LightGBM] [Info] Number of positive: 274, number of negative: 439\n",
      "[LightGBM] [Info] Auto-choosing row-wise multi-threading, the overhead of testing was 0.000099 seconds.\n",
      "You can set `force_row_wise=true` to remove the overhead.\n",
      "And if memory is not enough, you can set `force_col_wise=true`.\n",
      "[LightGBM] [Info] Total Bins 201\n",
      "[LightGBM] [Info] Number of data points in the train set: 713, number of used features: 7\n",
      "[LightGBM] [Info] [binary:BoostFromScore]: pavg=0.384292 -> initscore=-0.471371\n",
      "[LightGBM] [Info] Start training from score -0.471371\n",
      "[LightGBM] [Warning] No further splits with positive gain, best gain: -inf\n",
      "[LightGBM] [Warning] No further splits with positive gain, best gain: -inf\n",
      "[LightGBM] [Warning] No further splits with positive gain, best gain: -inf\n",
      "[LightGBM] [Warning] No further splits with positive gain, best gain: -inf\n",
      "[LightGBM] [Warning] No further splits with positive gain, best gain: -inf\n",
      "[LightGBM] [Warning] No further splits with positive gain, best gain: -inf\n",
      "[LightGBM] [Warning] No further splits with positive gain, best gain: -inf\n",
      "[LightGBM] [Warning] No further splits with positive gain, best gain: -inf\n",
      "[LightGBM] [Warning] No further splits with positive gain, best gain: -inf\n",
      "[LightGBM] [Warning] No further splits with positive gain, best gain: -inf\n",
      "[LightGBM] [Warning] No further splits with positive gain, best gain: -inf\n",
      "[LightGBM] [Warning] No further splits with positive gain, best gain: -inf\n",
      "[LightGBM] [Warning] No further splits with positive gain, best gain: -inf\n",
      "[LightGBM] [Warning] No further splits with positive gain, best gain: -inf\n",
      "[LightGBM] [Warning] No further splits with positive gain, best gain: -inf\n",
      "[LightGBM] [Warning] No further splits with positive gain, best gain: -inf\n",
      "[LightGBM] [Warning] No further splits with positive gain, best gain: -inf\n",
      "[LightGBM] [Warning] No further splits with positive gain, best gain: -inf\n",
      "[LightGBM] [Warning] No further splits with positive gain, best gain: -inf\n",
      "[LightGBM] [Warning] No further splits with positive gain, best gain: -inf\n",
      "[LightGBM] [Warning] No further splits with positive gain, best gain: -inf\n",
      "[LightGBM] [Warning] No further splits with positive gain, best gain: -inf\n",
      "[LightGBM] [Warning] No further splits with positive gain, best gain: -inf\n",
      "[LightGBM] [Warning] No further splits with positive gain, best gain: -inf\n",
      "[LightGBM] [Warning] No further splits with positive gain, best gain: -inf\n",
      "[LightGBM] [Warning] No further splits with positive gain, best gain: -inf\n",
      "[LightGBM] [Warning] No further splits with positive gain, best gain: -inf\n",
      "[LightGBM] [Warning] No further splits with positive gain, best gain: -inf\n",
      "[LightGBM] [Warning] No further splits with positive gain, best gain: -inf\n",
      "[LightGBM] [Warning] No further splits with positive gain, best gain: -inf\n",
      "[LightGBM] [Warning] No further splits with positive gain, best gain: -inf\n",
      "[LightGBM] [Warning] No further splits with positive gain, best gain: -inf\n",
      "[LightGBM] [Warning] No further splits with positive gain, best gain: -inf\n",
      "[LightGBM] [Warning] No further splits with positive gain, best gain: -inf\n",
      "[LightGBM] [Warning] No further splits with positive gain, best gain: -inf\n",
      "[LightGBM] [Warning] No further splits with positive gain, best gain: -inf\n",
      "[LightGBM] [Warning] No further splits with positive gain, best gain: -inf\n",
      "[LightGBM] [Warning] No further splits with positive gain, best gain: -inf\n",
      "[LightGBM] [Warning] No further splits with positive gain, best gain: -inf\n",
      "[LightGBM] [Warning] No further splits with positive gain, best gain: -inf\n",
      "[LightGBM] [Warning] No further splits with positive gain, best gain: -inf\n",
      "[LightGBM] [Warning] No further splits with positive gain, best gain: -inf\n",
      "[LightGBM] [Warning] No further splits with positive gain, best gain: -inf\n",
      "[LightGBM] [Warning] No further splits with positive gain, best gain: -inf\n",
      "[LightGBM] [Warning] No further splits with positive gain, best gain: -inf\n",
      "[LightGBM] [Warning] No further splits with positive gain, best gain: -inf\n",
      "[LightGBM] [Warning] No further splits with positive gain, best gain: -inf\n",
      "[LightGBM] [Warning] No further splits with positive gain, best gain: -inf\n",
      "[LightGBM] [Warning] No further splits with positive gain, best gain: -inf\n",
      "[LightGBM] [Warning] No further splits with positive gain, best gain: -inf\n",
      "[LightGBM] [Warning] No further splits with positive gain, best gain: -inf\n",
      "[LightGBM] [Warning] No further splits with positive gain, best gain: -inf\n",
      "[LightGBM] [Warning] No further splits with positive gain, best gain: -inf\n",
      "[LightGBM] [Warning] No further splits with positive gain, best gain: -inf\n",
      "[LightGBM] [Warning] No further splits with positive gain, best gain: -inf\n",
      "[LightGBM] [Warning] No further splits with positive gain, best gain: -inf\n",
      "[LightGBM] [Warning] No further splits with positive gain, best gain: -inf\n",
      "[LightGBM] [Warning] No further splits with positive gain, best gain: -inf\n",
      "[LightGBM] [Warning] No further splits with positive gain, best gain: -inf\n",
      "[LightGBM] [Warning] No further splits with positive gain, best gain: -inf\n",
      "[LightGBM] [Warning] No further splits with positive gain, best gain: -inf\n",
      "[LightGBM] [Warning] No further splits with positive gain, best gain: -inf\n",
      "[LightGBM] [Warning] No further splits with positive gain, best gain: -inf\n",
      "[LightGBM] [Warning] No further splits with positive gain, best gain: -inf\n",
      "[LightGBM] [Warning] No further splits with positive gain, best gain: -inf\n",
      "[LightGBM] [Warning] No further splits with positive gain, best gain: -inf\n",
      "[LightGBM] [Warning] No further splits with positive gain, best gain: -inf\n",
      "[LightGBM] [Warning] No further splits with positive gain, best gain: -inf\n",
      "[LightGBM] [Warning] No further splits with positive gain, best gain: -inf\n",
      "[LightGBM] [Warning] No further splits with positive gain, best gain: -inf\n",
      "[LightGBM] [Warning] No further splits with positive gain, best gain: -inf\n",
      "[LightGBM] [Warning] No further splits with positive gain, best gain: -inf\n",
      "[LightGBM] [Warning] No further splits with positive gain, best gain: -inf\n",
      "[LightGBM] [Warning] No further splits with positive gain, best gain: -inf\n",
      "[LightGBM] [Warning] No further splits with positive gain, best gain: -inf\n",
      "[LightGBM] [Warning] No further splits with positive gain, best gain: -inf\n",
      "[LightGBM] [Warning] No further splits with positive gain, best gain: -inf\n",
      "[LightGBM] [Warning] No further splits with positive gain, best gain: -inf\n",
      "[LightGBM] [Warning] No further splits with positive gain, best gain: -inf\n",
      "[LightGBM] [Warning] No further splits with positive gain, best gain: -inf\n",
      "[LightGBM] [Warning] No further splits with positive gain, best gain: -inf\n",
      "[LightGBM] [Warning] No further splits with positive gain, best gain: -inf\n",
      "[LightGBM] [Warning] No further splits with positive gain, best gain: -inf\n",
      "[LightGBM] [Warning] No further splits with positive gain, best gain: -inf\n",
      "[LightGBM] [Warning] No further splits with positive gain, best gain: -inf\n",
      "[LightGBM] [Warning] No further splits with positive gain, best gain: -inf\n",
      "[LightGBM] [Warning] No further splits with positive gain, best gain: -inf\n",
      "[LightGBM] [Warning] No further splits with positive gain, best gain: -inf\n",
      "[LightGBM] [Warning] No further splits with positive gain, best gain: -inf\n",
      "[LightGBM] [Warning] No further splits with positive gain, best gain: -inf\n",
      "[LightGBM] [Warning] No further splits with positive gain, best gain: -inf\n",
      "[LightGBM] [Info] Number of positive: 274, number of negative: 439\n",
      "[LightGBM] [Info] Auto-choosing row-wise multi-threading, the overhead of testing was 0.000100 seconds.\n",
      "You can set `force_row_wise=true` to remove the overhead.\n",
      "And if memory is not enough, you can set `force_col_wise=true`.\n",
      "[LightGBM] [Info] Total Bins 204\n",
      "[LightGBM] [Info] Number of data points in the train set: 713, number of used features: 7\n",
      "[LightGBM] [Info] [binary:BoostFromScore]: pavg=0.384292 -> initscore=-0.471371\n",
      "[LightGBM] [Info] Start training from score -0.471371\n",
      "[LightGBM] [Warning] No further splits with positive gain, best gain: -inf\n",
      "[LightGBM] [Warning] No further splits with positive gain, best gain: -inf\n",
      "[LightGBM] [Warning] No further splits with positive gain, best gain: -inf\n",
      "[LightGBM] [Warning] No further splits with positive gain, best gain: -inf\n",
      "[LightGBM] [Warning] No further splits with positive gain, best gain: -inf\n",
      "[LightGBM] [Warning] No further splits with positive gain, best gain: -inf\n",
      "[LightGBM] [Warning] No further splits with positive gain, best gain: -inf\n",
      "[LightGBM] [Warning] No further splits with positive gain, best gain: -inf\n",
      "[LightGBM] [Warning] No further splits with positive gain, best gain: -inf\n",
      "[LightGBM] [Warning] No further splits with positive gain, best gain: -inf\n",
      "[LightGBM] [Warning] No further splits with positive gain, best gain: -inf\n",
      "[LightGBM] [Warning] No further splits with positive gain, best gain: -inf\n",
      "[LightGBM] [Warning] No further splits with positive gain, best gain: -inf\n",
      "[LightGBM] [Warning] No further splits with positive gain, best gain: -inf\n",
      "[LightGBM] [Warning] No further splits with positive gain, best gain: -inf\n",
      "[LightGBM] [Warning] No further splits with positive gain, best gain: -inf\n",
      "[LightGBM] [Warning] No further splits with positive gain, best gain: -inf\n",
      "[LightGBM] [Warning] No further splits with positive gain, best gain: -inf\n",
      "[LightGBM] [Warning] No further splits with positive gain, best gain: -inf\n",
      "[LightGBM] [Warning] No further splits with positive gain, best gain: -inf\n",
      "[LightGBM] [Warning] No further splits with positive gain, best gain: -inf\n",
      "[LightGBM] [Warning] No further splits with positive gain, best gain: -inf\n",
      "[LightGBM] [Warning] No further splits with positive gain, best gain: -inf\n",
      "[LightGBM] [Warning] No further splits with positive gain, best gain: -inf\n",
      "[LightGBM] [Warning] No further splits with positive gain, best gain: -inf\n",
      "[LightGBM] [Warning] No further splits with positive gain, best gain: -inf\n",
      "[LightGBM] [Warning] No further splits with positive gain, best gain: -inf\n",
      "[LightGBM] [Warning] No further splits with positive gain, best gain: -inf\n",
      "[LightGBM] [Warning] No further splits with positive gain, best gain: -inf\n",
      "[LightGBM] [Warning] No further splits with positive gain, best gain: -inf\n",
      "[LightGBM] [Warning] No further splits with positive gain, best gain: -inf\n",
      "[LightGBM] [Warning] No further splits with positive gain, best gain: -inf\n",
      "[LightGBM] [Warning] No further splits with positive gain, best gain: -inf\n",
      "[LightGBM] [Warning] No further splits with positive gain, best gain: -inf\n",
      "[LightGBM] [Warning] No further splits with positive gain, best gain: -inf\n",
      "[LightGBM] [Warning] No further splits with positive gain, best gain: -inf\n",
      "[LightGBM] [Warning] No further splits with positive gain, best gain: -inf\n",
      "[LightGBM] [Warning] No further splits with positive gain, best gain: -inf\n",
      "[LightGBM] [Warning] No further splits with positive gain, best gain: -inf\n",
      "[LightGBM] [Warning] No further splits with positive gain, best gain: -inf\n",
      "[LightGBM] [Warning] No further splits with positive gain, best gain: -inf\n",
      "[LightGBM] [Warning] No further splits with positive gain, best gain: -inf\n",
      "[LightGBM] [Warning] No further splits with positive gain, best gain: -inf\n",
      "[LightGBM] [Warning] No further splits with positive gain, best gain: -inf\n",
      "[LightGBM] [Warning] No further splits with positive gain, best gain: -inf\n",
      "[LightGBM] [Warning] No further splits with positive gain, best gain: -inf\n",
      "[LightGBM] [Warning] No further splits with positive gain, best gain: -inf\n",
      "[LightGBM] [Warning] No further splits with positive gain, best gain: -inf\n",
      "[LightGBM] [Warning] No further splits with positive gain, best gain: -inf\n",
      "[LightGBM] [Warning] No further splits with positive gain, best gain: -inf\n",
      "[LightGBM] [Warning] No further splits with positive gain, best gain: -inf\n",
      "[LightGBM] [Warning] No further splits with positive gain, best gain: -inf\n",
      "[LightGBM] [Warning] No further splits with positive gain, best gain: -inf\n",
      "[LightGBM] [Warning] No further splits with positive gain, best gain: -inf\n",
      "[LightGBM] [Warning] No further splits with positive gain, best gain: -inf\n",
      "[LightGBM] [Warning] No further splits with positive gain, best gain: -inf\n",
      "[LightGBM] [Warning] No further splits with positive gain, best gain: -inf\n",
      "[LightGBM] [Warning] No further splits with positive gain, best gain: -inf\n",
      "[LightGBM] [Warning] No further splits with positive gain, best gain: -inf\n",
      "[LightGBM] [Warning] No further splits with positive gain, best gain: -inf\n",
      "[LightGBM] [Warning] No further splits with positive gain, best gain: -inf\n",
      "[LightGBM] [Warning] No further splits with positive gain, best gain: -inf\n",
      "[LightGBM] [Warning] No further splits with positive gain, best gain: -inf\n",
      "[LightGBM] [Warning] No further splits with positive gain, best gain: -inf\n",
      "[LightGBM] [Warning] No further splits with positive gain, best gain: -inf\n",
      "[LightGBM] [Warning] No further splits with positive gain, best gain: -inf\n",
      "[LightGBM] [Warning] No further splits with positive gain, best gain: -inf\n",
      "[LightGBM] [Warning] No further splits with positive gain, best gain: -inf\n",
      "[LightGBM] [Warning] No further splits with positive gain, best gain: -inf\n",
      "[LightGBM] [Warning] No further splits with positive gain, best gain: -inf\n",
      "[LightGBM] [Warning] No further splits with positive gain, best gain: -inf\n",
      "[LightGBM] [Warning] No further splits with positive gain, best gain: -inf\n",
      "[LightGBM] [Warning] No further splits with positive gain, best gain: -inf\n",
      "[LightGBM] [Warning] No further splits with positive gain, best gain: -inf\n",
      "[LightGBM] [Warning] No further splits with positive gain, best gain: -inf\n",
      "[LightGBM] [Warning] No further splits with positive gain, best gain: -inf\n",
      "[LightGBM] [Warning] No further splits with positive gain, best gain: -inf\n",
      "[LightGBM] [Warning] No further splits with positive gain, best gain: -inf\n",
      "[LightGBM] [Warning] No further splits with positive gain, best gain: -inf\n",
      "[LightGBM] [Warning] No further splits with positive gain, best gain: -inf\n",
      "[LightGBM] [Warning] No further splits with positive gain, best gain: -inf\n",
      "[LightGBM] [Warning] No further splits with positive gain, best gain: -inf\n",
      "[LightGBM] [Warning] No further splits with positive gain, best gain: -inf\n",
      "[LightGBM] [Warning] No further splits with positive gain, best gain: -inf\n",
      "[LightGBM] [Warning] No further splits with positive gain, best gain: -inf\n",
      "[LightGBM] [Warning] No further splits with positive gain, best gain: -inf\n",
      "[LightGBM] [Warning] No further splits with positive gain, best gain: -inf\n",
      "[LightGBM] [Warning] No further splits with positive gain, best gain: -inf\n",
      "[LightGBM] [Warning] No further splits with positive gain, best gain: -inf\n",
      "[LightGBM] [Warning] No further splits with positive gain, best gain: -inf\n",
      "[LightGBM] [Warning] No further splits with positive gain, best gain: -inf\n",
      "[LightGBM] [Warning] No further splits with positive gain, best gain: -inf\n",
      "[LightGBM] [Warning] No further splits with positive gain, best gain: -inf\n",
      "[LightGBM] [Warning] No further splits with positive gain, best gain: -inf\n",
      "[LightGBM] [Warning] No further splits with positive gain, best gain: -inf\n",
      "[LightGBM] [Info] Number of positive: 274, number of negative: 439\n",
      "[LightGBM] [Info] Auto-choosing row-wise multi-threading, the overhead of testing was 0.000098 seconds.\n",
      "You can set `force_row_wise=true` to remove the overhead.\n",
      "And if memory is not enough, you can set `force_col_wise=true`.\n",
      "[LightGBM] [Info] Total Bins 202\n",
      "[LightGBM] [Info] Number of data points in the train set: 713, number of used features: 7\n",
      "[LightGBM] [Info] [binary:BoostFromScore]: pavg=0.384292 -> initscore=-0.471371\n",
      "[LightGBM] [Info] Start training from score -0.471371\n",
      "[LightGBM] [Warning] No further splits with positive gain, best gain: -inf\n",
      "[LightGBM] [Warning] No further splits with positive gain, best gain: -inf\n",
      "[LightGBM] [Warning] No further splits with positive gain, best gain: -inf\n",
      "[LightGBM] [Warning] No further splits with positive gain, best gain: -inf\n",
      "[LightGBM] [Warning] No further splits with positive gain, best gain: -inf\n",
      "[LightGBM] [Warning] No further splits with positive gain, best gain: -inf\n",
      "[LightGBM] [Warning] No further splits with positive gain, best gain: -inf\n",
      "[LightGBM] [Warning] No further splits with positive gain, best gain: -inf\n",
      "[LightGBM] [Warning] No further splits with positive gain, best gain: -inf\n",
      "[LightGBM] [Warning] No further splits with positive gain, best gain: -inf\n",
      "[LightGBM] [Warning] No further splits with positive gain, best gain: -inf\n",
      "[LightGBM] [Warning] No further splits with positive gain, best gain: -inf\n",
      "[LightGBM] [Warning] No further splits with positive gain, best gain: -inf\n",
      "[LightGBM] [Warning] No further splits with positive gain, best gain: -inf\n",
      "[LightGBM] [Warning] No further splits with positive gain, best gain: -inf\n",
      "[LightGBM] [Warning] No further splits with positive gain, best gain: -inf\n",
      "[LightGBM] [Warning] No further splits with positive gain, best gain: -inf\n",
      "[LightGBM] [Warning] No further splits with positive gain, best gain: -inf\n",
      "[LightGBM] [Warning] No further splits with positive gain, best gain: -inf\n",
      "[LightGBM] [Warning] No further splits with positive gain, best gain: -inf\n",
      "[LightGBM] [Warning] No further splits with positive gain, best gain: -inf\n",
      "[LightGBM] [Warning] No further splits with positive gain, best gain: -inf\n",
      "[LightGBM] [Warning] No further splits with positive gain, best gain: -inf\n",
      "[LightGBM] [Warning] No further splits with positive gain, best gain: -inf\n",
      "[LightGBM] [Warning] No further splits with positive gain, best gain: -inf\n",
      "[LightGBM] [Warning] No further splits with positive gain, best gain: -inf\n",
      "[LightGBM] [Warning] No further splits with positive gain, best gain: -inf\n",
      "[LightGBM] [Warning] No further splits with positive gain, best gain: -inf\n",
      "[LightGBM] [Warning] No further splits with positive gain, best gain: -inf\n",
      "[LightGBM] [Warning] No further splits with positive gain, best gain: -inf\n",
      "[LightGBM] [Warning] No further splits with positive gain, best gain: -inf\n",
      "[LightGBM] [Warning] No further splits with positive gain, best gain: -inf\n",
      "[LightGBM] [Warning] No further splits with positive gain, best gain: -inf\n",
      "[LightGBM] [Warning] No further splits with positive gain, best gain: -inf\n",
      "[LightGBM] [Warning] No further splits with positive gain, best gain: -inf\n",
      "[LightGBM] [Warning] No further splits with positive gain, best gain: -inf\n",
      "[LightGBM] [Warning] No further splits with positive gain, best gain: -inf\n",
      "[LightGBM] [Warning] No further splits with positive gain, best gain: -inf\n",
      "[LightGBM] [Warning] No further splits with positive gain, best gain: -inf\n",
      "[LightGBM] [Warning] No further splits with positive gain, best gain: -inf\n",
      "[LightGBM] [Warning] No further splits with positive gain, best gain: -inf\n",
      "[LightGBM] [Warning] No further splits with positive gain, best gain: -inf\n",
      "[LightGBM] [Warning] No further splits with positive gain, best gain: -inf\n",
      "[LightGBM] [Warning] No further splits with positive gain, best gain: -inf\n",
      "[LightGBM] [Warning] No further splits with positive gain, best gain: -inf\n",
      "[LightGBM] [Warning] No further splits with positive gain, best gain: -inf\n",
      "[LightGBM] [Warning] No further splits with positive gain, best gain: -inf\n",
      "[LightGBM] [Warning] No further splits with positive gain, best gain: -inf\n",
      "[LightGBM] [Warning] No further splits with positive gain, best gain: -inf\n",
      "[LightGBM] [Warning] No further splits with positive gain, best gain: -inf\n",
      "[LightGBM] [Warning] No further splits with positive gain, best gain: -inf\n",
      "[LightGBM] [Warning] No further splits with positive gain, best gain: -inf\n",
      "[LightGBM] [Warning] No further splits with positive gain, best gain: -inf\n",
      "[LightGBM] [Warning] No further splits with positive gain, best gain: -inf\n",
      "[LightGBM] [Warning] No further splits with positive gain, best gain: -inf\n",
      "[LightGBM] [Warning] No further splits with positive gain, best gain: -inf\n",
      "[LightGBM] [Warning] No further splits with positive gain, best gain: -inf\n",
      "[LightGBM] [Warning] No further splits with positive gain, best gain: -inf\n",
      "[LightGBM] [Warning] No further splits with positive gain, best gain: -inf\n",
      "[LightGBM] [Warning] No further splits with positive gain, best gain: -inf\n",
      "[LightGBM] [Warning] No further splits with positive gain, best gain: -inf\n",
      "[LightGBM] [Warning] No further splits with positive gain, best gain: -inf\n",
      "[LightGBM] [Warning] No further splits with positive gain, best gain: -inf\n",
      "[LightGBM] [Warning] No further splits with positive gain, best gain: -inf\n",
      "[LightGBM] [Warning] No further splits with positive gain, best gain: -inf\n",
      "[LightGBM] [Warning] No further splits with positive gain, best gain: -inf\n",
      "[LightGBM] [Warning] No further splits with positive gain, best gain: -inf\n",
      "[LightGBM] [Warning] No further splits with positive gain, best gain: -inf\n",
      "[LightGBM] [Warning] No further splits with positive gain, best gain: -inf\n",
      "[LightGBM] [Warning] No further splits with positive gain, best gain: -inf\n",
      "[LightGBM] [Warning] No further splits with positive gain, best gain: -inf\n",
      "[LightGBM] [Warning] No further splits with positive gain, best gain: -inf\n",
      "[LightGBM] [Warning] No further splits with positive gain, best gain: -inf\n",
      "[LightGBM] [Warning] No further splits with positive gain, best gain: -inf\n",
      "[LightGBM] [Warning] No further splits with positive gain, best gain: -inf\n",
      "[LightGBM] [Warning] No further splits with positive gain, best gain: -inf\n",
      "[LightGBM] [Warning] No further splits with positive gain, best gain: -inf\n",
      "[LightGBM] [Warning] No further splits with positive gain, best gain: -inf\n",
      "[LightGBM] [Warning] No further splits with positive gain, best gain: -inf\n",
      "[LightGBM] [Warning] No further splits with positive gain, best gain: -inf\n",
      "[LightGBM] [Warning] No further splits with positive gain, best gain: -inf\n",
      "[LightGBM] [Warning] No further splits with positive gain, best gain: -inf\n",
      "[LightGBM] [Warning] No further splits with positive gain, best gain: -inf\n",
      "[LightGBM] [Warning] No further splits with positive gain, best gain: -inf\n",
      "[LightGBM] [Warning] No further splits with positive gain, best gain: -inf\n",
      "[LightGBM] [Warning] No further splits with positive gain, best gain: -inf\n",
      "[LightGBM] [Warning] No further splits with positive gain, best gain: -inf\n",
      "[LightGBM] [Warning] No further splits with positive gain, best gain: -inf\n",
      "[LightGBM] [Warning] No further splits with positive gain, best gain: -inf\n",
      "[LightGBM] [Warning] No further splits with positive gain, best gain: -inf\n",
      "[LightGBM] [Warning] No further splits with positive gain, best gain: -inf\n",
      "[LightGBM] [Warning] No further splits with positive gain, best gain: -inf\n",
      "[LightGBM] [Warning] No further splits with positive gain, best gain: -inf\n",
      "[LightGBM] [Warning] No further splits with positive gain, best gain: -inf\n",
      "[LightGBM] [Warning] No further splits with positive gain, best gain: -inf\n",
      "[LightGBM] [Warning] No further splits with positive gain, best gain: -inf\n",
      "[LightGBM] [Warning] No further splits with positive gain, best gain: -inf\n",
      "[LightGBM] [Warning] No further splits with positive gain, best gain: -inf\n",
      "[LightGBM] [Info] Number of positive: 273, number of negative: 440\n",
      "[LightGBM] [Info] Auto-choosing row-wise multi-threading, the overhead of testing was 0.000100 seconds.\n",
      "You can set `force_row_wise=true` to remove the overhead.\n",
      "And if memory is not enough, you can set `force_col_wise=true`.\n",
      "[LightGBM] [Info] Total Bins 202\n",
      "[LightGBM] [Info] Number of data points in the train set: 713, number of used features: 7\n",
      "[LightGBM] [Info] [binary:BoostFromScore]: pavg=0.382889 -> initscore=-0.477303\n",
      "[LightGBM] [Info] Start training from score -0.477303\n",
      "[LightGBM] [Warning] No further splits with positive gain, best gain: -inf\n",
      "[LightGBM] [Warning] No further splits with positive gain, best gain: -inf\n",
      "[LightGBM] [Warning] No further splits with positive gain, best gain: -inf\n",
      "[LightGBM] [Warning] No further splits with positive gain, best gain: -inf\n",
      "[LightGBM] [Warning] No further splits with positive gain, best gain: -inf\n",
      "[LightGBM] [Warning] No further splits with positive gain, best gain: -inf\n",
      "[LightGBM] [Warning] No further splits with positive gain, best gain: -inf\n",
      "[LightGBM] [Warning] No further splits with positive gain, best gain: -inf\n",
      "[LightGBM] [Warning] No further splits with positive gain, best gain: -inf\n",
      "[LightGBM] [Warning] No further splits with positive gain, best gain: -inf\n",
      "[LightGBM] [Warning] No further splits with positive gain, best gain: -inf\n",
      "[LightGBM] [Warning] No further splits with positive gain, best gain: -inf\n",
      "[LightGBM] [Warning] No further splits with positive gain, best gain: -inf\n",
      "[LightGBM] [Warning] No further splits with positive gain, best gain: -inf\n",
      "[LightGBM] [Warning] No further splits with positive gain, best gain: -inf\n",
      "[LightGBM] [Warning] No further splits with positive gain, best gain: -inf\n",
      "[LightGBM] [Warning] No further splits with positive gain, best gain: -inf\n",
      "[LightGBM] [Warning] No further splits with positive gain, best gain: -inf\n",
      "[LightGBM] [Warning] No further splits with positive gain, best gain: -inf\n",
      "[LightGBM] [Warning] No further splits with positive gain, best gain: -inf\n",
      "[LightGBM] [Warning] No further splits with positive gain, best gain: -inf\n",
      "[LightGBM] [Warning] No further splits with positive gain, best gain: -inf\n",
      "[LightGBM] [Warning] No further splits with positive gain, best gain: -inf\n",
      "[LightGBM] [Warning] No further splits with positive gain, best gain: -inf\n",
      "[LightGBM] [Warning] No further splits with positive gain, best gain: -inf\n",
      "[LightGBM] [Warning] No further splits with positive gain, best gain: -inf\n",
      "[LightGBM] [Warning] No further splits with positive gain, best gain: -inf\n",
      "[LightGBM] [Warning] No further splits with positive gain, best gain: -inf\n",
      "[LightGBM] [Warning] No further splits with positive gain, best gain: -inf\n",
      "[LightGBM] [Warning] No further splits with positive gain, best gain: -inf\n",
      "[LightGBM] [Warning] No further splits with positive gain, best gain: -inf\n",
      "[LightGBM] [Warning] No further splits with positive gain, best gain: -inf\n",
      "[LightGBM] [Warning] No further splits with positive gain, best gain: -inf\n",
      "[LightGBM] [Warning] No further splits with positive gain, best gain: -inf\n",
      "[LightGBM] [Warning] No further splits with positive gain, best gain: -inf\n",
      "[LightGBM] [Warning] No further splits with positive gain, best gain: -inf\n",
      "[LightGBM] [Warning] No further splits with positive gain, best gain: -inf\n",
      "[LightGBM] [Warning] No further splits with positive gain, best gain: -inf\n",
      "[LightGBM] [Warning] No further splits with positive gain, best gain: -inf\n",
      "[LightGBM] [Warning] No further splits with positive gain, best gain: -inf\n",
      "[LightGBM] [Warning] No further splits with positive gain, best gain: -inf\n",
      "[LightGBM] [Warning] No further splits with positive gain, best gain: -inf\n",
      "[LightGBM] [Warning] No further splits with positive gain, best gain: -inf\n",
      "[LightGBM] [Warning] No further splits with positive gain, best gain: -inf\n",
      "[LightGBM] [Warning] No further splits with positive gain, best gain: -inf\n",
      "[LightGBM] [Warning] No further splits with positive gain, best gain: -inf\n",
      "[LightGBM] [Warning] No further splits with positive gain, best gain: -inf\n",
      "[LightGBM] [Warning] No further splits with positive gain, best gain: -inf\n",
      "[LightGBM] [Warning] No further splits with positive gain, best gain: -inf\n",
      "[LightGBM] [Warning] No further splits with positive gain, best gain: -inf\n",
      "[LightGBM] [Warning] No further splits with positive gain, best gain: -inf\n",
      "[LightGBM] [Warning] No further splits with positive gain, best gain: -inf\n",
      "[LightGBM] [Warning] No further splits with positive gain, best gain: -inf\n",
      "[LightGBM] [Warning] No further splits with positive gain, best gain: -inf\n",
      "[LightGBM] [Warning] No further splits with positive gain, best gain: -inf\n",
      "[LightGBM] [Warning] No further splits with positive gain, best gain: -inf\n",
      "[LightGBM] [Warning] No further splits with positive gain, best gain: -inf\n",
      "[LightGBM] [Warning] No further splits with positive gain, best gain: -inf\n",
      "[LightGBM] [Warning] No further splits with positive gain, best gain: -inf\n",
      "[LightGBM] [Warning] No further splits with positive gain, best gain: -inf\n",
      "[LightGBM] [Warning] No further splits with positive gain, best gain: -inf\n",
      "[LightGBM] [Warning] No further splits with positive gain, best gain: -inf\n",
      "[LightGBM] [Warning] No further splits with positive gain, best gain: -inf\n",
      "[LightGBM] [Warning] No further splits with positive gain, best gain: -inf\n",
      "[LightGBM] [Warning] No further splits with positive gain, best gain: -inf\n",
      "[LightGBM] [Warning] No further splits with positive gain, best gain: -inf\n",
      "[LightGBM] [Warning] No further splits with positive gain, best gain: -inf\n",
      "[LightGBM] [Warning] No further splits with positive gain, best gain: -inf\n",
      "[LightGBM] [Warning] No further splits with positive gain, best gain: -inf\n",
      "[LightGBM] [Warning] No further splits with positive gain, best gain: -inf\n",
      "[LightGBM] [Warning] No further splits with positive gain, best gain: -inf\n",
      "[LightGBM] [Warning] No further splits with positive gain, best gain: -inf\n",
      "[LightGBM] [Warning] No further splits with positive gain, best gain: -inf\n",
      "[LightGBM] [Warning] No further splits with positive gain, best gain: -inf\n",
      "[LightGBM] [Warning] No further splits with positive gain, best gain: -inf\n",
      "[LightGBM] [Warning] No further splits with positive gain, best gain: -inf\n",
      "[LightGBM] [Warning] No further splits with positive gain, best gain: -inf\n",
      "[LightGBM] [Warning] No further splits with positive gain, best gain: -inf\n",
      "[LightGBM] [Warning] No further splits with positive gain, best gain: -inf\n",
      "[LightGBM] [Warning] No further splits with positive gain, best gain: -inf\n",
      "[LightGBM] [Warning] No further splits with positive gain, best gain: -inf\n",
      "[LightGBM] [Warning] No further splits with positive gain, best gain: -inf\n",
      "[LightGBM] [Warning] No further splits with positive gain, best gain: -inf\n",
      "[LightGBM] [Warning] No further splits with positive gain, best gain: -inf\n",
      "[LightGBM] [Warning] No further splits with positive gain, best gain: -inf\n",
      "[LightGBM] [Warning] No further splits with positive gain, best gain: -inf\n",
      "[LightGBM] [Warning] No further splits with positive gain, best gain: -inf\n",
      "[LightGBM] [Warning] No further splits with positive gain, best gain: -inf\n",
      "[LightGBM] [Warning] No further splits with positive gain, best gain: -inf\n",
      "[LightGBM] [Warning] No further splits with positive gain, best gain: -inf\n",
      "[LightGBM] [Warning] No further splits with positive gain, best gain: -inf\n",
      "[LightGBM] [Warning] No further splits with positive gain, best gain: -inf\n",
      "[LightGBM] [Warning] No further splits with positive gain, best gain: -inf\n",
      "[LightGBM] [Warning] No further splits with positive gain, best gain: -inf\n",
      "[LightGBM] [Warning] No further splits with positive gain, best gain: -inf\n",
      "[LightGBM] [Warning] No further splits with positive gain, best gain: -inf\n",
      "[LightGBM] [Warning] No further splits with positive gain, best gain: -inf\n",
      "[LightGBM] [Warning] No further splits with positive gain, best gain: -inf\n",
      "[LightGBM] [Warning] No further splits with positive gain, best gain: -inf\n",
      "CV Score: 0.8238277572029377\n"
     ]
    }
   ],
   "source": [
    "# LightGBM:\n",
    "\n",
    "from lightgbm import LGBMClassifier\n",
    "model = LGBMClassifier()\n",
    "classify(model)"
   ]
  },
  {
   "cell_type": "markdown",
   "id": "6fd4bf40",
   "metadata": {
    "papermill": {
     "duration": 0.029359,
     "end_time": "2024-04-16T16:01:51.024763",
     "exception": false,
     "start_time": "2024-04-16T16:01:50.995404",
     "status": "completed"
    },
    "tags": []
   },
   "source": [
    "## CatBoost:\n"
   ]
  },
  {
   "cell_type": "code",
   "execution_count": 41,
   "id": "35d4f08c",
   "metadata": {
    "execution": {
     "iopub.execute_input": "2024-04-16T16:01:51.086401Z",
     "iopub.status.busy": "2024-04-16T16:01:51.085512Z",
     "iopub.status.idle": "2024-04-16T16:01:58.037872Z",
     "shell.execute_reply": "2024-04-16T16:01:58.036731Z"
    },
    "papermill": {
     "duration": 6.985662,
     "end_time": "2024-04-16T16:01:58.040077",
     "exception": false,
     "start_time": "2024-04-16T16:01:51.054415",
     "status": "completed"
    },
    "tags": []
   },
   "outputs": [
    {
     "name": "stdout",
     "output_type": "stream",
     "text": [
      "Accuracy: 0.8295964125560538\n",
      "CV Score: 0.8226790534178645\n"
     ]
    }
   ],
   "source": [
    "# CatBoost:\n",
    "\n",
    "from catboost import CatBoostClassifier\n",
    "model = CatBoostClassifier(verbose=0)\n",
    "classify(model)"
   ]
  },
  {
   "cell_type": "markdown",
   "id": "63396871",
   "metadata": {
    "papermill": {
     "duration": 0.029471,
     "end_time": "2024-04-16T16:01:58.100062",
     "exception": false,
     "start_time": "2024-04-16T16:01:58.070591",
     "status": "completed"
    },
    "tags": []
   },
   "source": [
    "- Among all the models, LightGBM shows the highest CV score."
   ]
  },
  {
   "cell_type": "markdown",
   "id": "86aa7486",
   "metadata": {
    "papermill": {
     "duration": 0.029172,
     "end_time": "2024-04-16T16:01:58.158669",
     "exception": false,
     "start_time": "2024-04-16T16:01:58.129497",
     "status": "completed"
    },
    "tags": []
   },
   "source": [
    "### Complete Model Training with Full Train Data\n",
    "\n",
    "Before submitting our model, we have to train it with the full data."
   ]
  },
  {
   "cell_type": "code",
   "execution_count": 42,
   "id": "9c247c3c",
   "metadata": {
    "execution": {
     "iopub.execute_input": "2024-04-16T16:01:58.220154Z",
     "iopub.status.busy": "2024-04-16T16:01:58.219507Z",
     "iopub.status.idle": "2024-04-16T16:01:58.270782Z",
     "shell.execute_reply": "2024-04-16T16:01:58.270056Z"
    },
    "papermill": {
     "duration": 0.083993,
     "end_time": "2024-04-16T16:01:58.272602",
     "exception": false,
     "start_time": "2024-04-16T16:01:58.188609",
     "status": "completed"
    },
    "tags": []
   },
   "outputs": [
    {
     "name": "stdout",
     "output_type": "stream",
     "text": [
      "[LightGBM] [Info] Number of positive: 342, number of negative: 549\n",
      "[LightGBM] [Info] Auto-choosing row-wise multi-threading, the overhead of testing was 0.000129 seconds.\n",
      "You can set `force_row_wise=true` to remove the overhead.\n",
      "And if memory is not enough, you can set `force_col_wise=true`.\n",
      "[LightGBM] [Info] Total Bins 222\n",
      "[LightGBM] [Info] Number of data points in the train set: 891, number of used features: 7\n",
      "[LightGBM] [Info] [binary:BoostFromScore]: pavg=0.383838 -> initscore=-0.473288\n",
      "[LightGBM] [Info] Start training from score -0.473288\n",
      "[LightGBM] [Warning] No further splits with positive gain, best gain: -inf\n"
     ]
    },
    {
     "data": {
      "text/html": [
       "<style>#sk-container-id-1 {color: black;background-color: white;}#sk-container-id-1 pre{padding: 0;}#sk-container-id-1 div.sk-toggleable {background-color: white;}#sk-container-id-1 label.sk-toggleable__label {cursor: pointer;display: block;width: 100%;margin-bottom: 0;padding: 0.3em;box-sizing: border-box;text-align: center;}#sk-container-id-1 label.sk-toggleable__label-arrow:before {content: \"▸\";float: left;margin-right: 0.25em;color: #696969;}#sk-container-id-1 label.sk-toggleable__label-arrow:hover:before {color: black;}#sk-container-id-1 div.sk-estimator:hover label.sk-toggleable__label-arrow:before {color: black;}#sk-container-id-1 div.sk-toggleable__content {max-height: 0;max-width: 0;overflow: hidden;text-align: left;background-color: #f0f8ff;}#sk-container-id-1 div.sk-toggleable__content pre {margin: 0.2em;color: black;border-radius: 0.25em;background-color: #f0f8ff;}#sk-container-id-1 input.sk-toggleable__control:checked~div.sk-toggleable__content {max-height: 200px;max-width: 100%;overflow: auto;}#sk-container-id-1 input.sk-toggleable__control:checked~label.sk-toggleable__label-arrow:before {content: \"▾\";}#sk-container-id-1 div.sk-estimator input.sk-toggleable__control:checked~label.sk-toggleable__label {background-color: #d4ebff;}#sk-container-id-1 div.sk-label input.sk-toggleable__control:checked~label.sk-toggleable__label {background-color: #d4ebff;}#sk-container-id-1 input.sk-hidden--visually {border: 0;clip: rect(1px 1px 1px 1px);clip: rect(1px, 1px, 1px, 1px);height: 1px;margin: -1px;overflow: hidden;padding: 0;position: absolute;width: 1px;}#sk-container-id-1 div.sk-estimator {font-family: monospace;background-color: #f0f8ff;border: 1px dotted black;border-radius: 0.25em;box-sizing: border-box;margin-bottom: 0.5em;}#sk-container-id-1 div.sk-estimator:hover {background-color: #d4ebff;}#sk-container-id-1 div.sk-parallel-item::after {content: \"\";width: 100%;border-bottom: 1px solid gray;flex-grow: 1;}#sk-container-id-1 div.sk-label:hover label.sk-toggleable__label {background-color: #d4ebff;}#sk-container-id-1 div.sk-serial::before {content: \"\";position: absolute;border-left: 1px solid gray;box-sizing: border-box;top: 0;bottom: 0;left: 50%;z-index: 0;}#sk-container-id-1 div.sk-serial {display: flex;flex-direction: column;align-items: center;background-color: white;padding-right: 0.2em;padding-left: 0.2em;position: relative;}#sk-container-id-1 div.sk-item {position: relative;z-index: 1;}#sk-container-id-1 div.sk-parallel {display: flex;align-items: stretch;justify-content: center;background-color: white;position: relative;}#sk-container-id-1 div.sk-item::before, #sk-container-id-1 div.sk-parallel-item::before {content: \"\";position: absolute;border-left: 1px solid gray;box-sizing: border-box;top: 0;bottom: 0;left: 50%;z-index: -1;}#sk-container-id-1 div.sk-parallel-item {display: flex;flex-direction: column;z-index: 1;position: relative;background-color: white;}#sk-container-id-1 div.sk-parallel-item:first-child::after {align-self: flex-end;width: 50%;}#sk-container-id-1 div.sk-parallel-item:last-child::after {align-self: flex-start;width: 50%;}#sk-container-id-1 div.sk-parallel-item:only-child::after {width: 0;}#sk-container-id-1 div.sk-dashed-wrapped {border: 1px dashed gray;margin: 0 0.4em 0.5em 0.4em;box-sizing: border-box;padding-bottom: 0.4em;background-color: white;}#sk-container-id-1 div.sk-label label {font-family: monospace;font-weight: bold;display: inline-block;line-height: 1.2em;}#sk-container-id-1 div.sk-label-container {text-align: center;}#sk-container-id-1 div.sk-container {/* jupyter's `normalize.less` sets `[hidden] { display: none; }` but bootstrap.min.css set `[hidden] { display: none !important; }` so we also need the `!important` here to be able to override the default hidden behavior on the sphinx rendered scikit-learn.org. See: https://github.com/scikit-learn/scikit-learn/issues/21755 */display: inline-block !important;position: relative;}#sk-container-id-1 div.sk-text-repr-fallback {display: none;}</style><div id=\"sk-container-id-1\" class=\"sk-top-container\"><div class=\"sk-text-repr-fallback\"><pre>LGBMClassifier()</pre><b>In a Jupyter environment, please rerun this cell to show the HTML representation or trust the notebook. <br />On GitHub, the HTML representation is unable to render, please try loading this page with nbviewer.org.</b></div><div class=\"sk-container\" hidden><div class=\"sk-item\"><div class=\"sk-estimator sk-toggleable\"><input class=\"sk-toggleable__control sk-hidden--visually\" id=\"sk-estimator-id-1\" type=\"checkbox\" checked><label for=\"sk-estimator-id-1\" class=\"sk-toggleable__label sk-toggleable__label-arrow\">LGBMClassifier</label><div class=\"sk-toggleable__content\"><pre>LGBMClassifier()</pre></div></div></div></div></div>"
      ],
      "text/plain": [
       "LGBMClassifier()"
      ]
     },
     "execution_count": 42,
     "metadata": {},
     "output_type": "execute_result"
    }
   ],
   "source": [
    "model = LGBMClassifier()\n",
    "model.fit(X, y)"
   ]
  },
  {
   "cell_type": "code",
   "execution_count": 43,
   "id": "9142fce4",
   "metadata": {
    "execution": {
     "iopub.execute_input": "2024-04-16T16:01:58.335495Z",
     "iopub.status.busy": "2024-04-16T16:01:58.334919Z",
     "iopub.status.idle": "2024-04-16T16:01:58.346610Z",
     "shell.execute_reply": "2024-04-16T16:01:58.345914Z"
    },
    "papermill": {
     "duration": 0.045374,
     "end_time": "2024-04-16T16:01:58.348480",
     "exception": false,
     "start_time": "2024-04-16T16:01:58.303106",
     "status": "completed"
    },
    "tags": []
   },
   "outputs": [
    {
     "data": {
      "text/html": [
       "<div>\n",
       "<style scoped>\n",
       "    .dataframe tbody tr th:only-of-type {\n",
       "        vertical-align: middle;\n",
       "    }\n",
       "\n",
       "    .dataframe tbody tr th {\n",
       "        vertical-align: top;\n",
       "    }\n",
       "\n",
       "    .dataframe thead th {\n",
       "        text-align: right;\n",
       "    }\n",
       "</style>\n",
       "<table border=\"1\" class=\"dataframe\">\n",
       "  <thead>\n",
       "    <tr style=\"text-align: right;\">\n",
       "      <th></th>\n",
       "      <th>Pclass</th>\n",
       "      <th>Sex</th>\n",
       "      <th>Age</th>\n",
       "      <th>SibSp</th>\n",
       "      <th>Parch</th>\n",
       "      <th>Fare</th>\n",
       "      <th>Embarked</th>\n",
       "    </tr>\n",
       "  </thead>\n",
       "  <tbody>\n",
       "    <tr>\n",
       "      <th>891</th>\n",
       "      <td>3</td>\n",
       "      <td>1</td>\n",
       "      <td>34.5</td>\n",
       "      <td>0</td>\n",
       "      <td>0</td>\n",
       "      <td>2.178064</td>\n",
       "      <td>1</td>\n",
       "    </tr>\n",
       "    <tr>\n",
       "      <th>892</th>\n",
       "      <td>3</td>\n",
       "      <td>0</td>\n",
       "      <td>47.0</td>\n",
       "      <td>1</td>\n",
       "      <td>0</td>\n",
       "      <td>2.079442</td>\n",
       "      <td>2</td>\n",
       "    </tr>\n",
       "    <tr>\n",
       "      <th>893</th>\n",
       "      <td>2</td>\n",
       "      <td>1</td>\n",
       "      <td>62.0</td>\n",
       "      <td>0</td>\n",
       "      <td>0</td>\n",
       "      <td>2.369075</td>\n",
       "      <td>1</td>\n",
       "    </tr>\n",
       "    <tr>\n",
       "      <th>894</th>\n",
       "      <td>3</td>\n",
       "      <td>1</td>\n",
       "      <td>27.0</td>\n",
       "      <td>0</td>\n",
       "      <td>0</td>\n",
       "      <td>2.268252</td>\n",
       "      <td>2</td>\n",
       "    </tr>\n",
       "    <tr>\n",
       "      <th>895</th>\n",
       "      <td>3</td>\n",
       "      <td>0</td>\n",
       "      <td>22.0</td>\n",
       "      <td>1</td>\n",
       "      <td>1</td>\n",
       "      <td>2.586824</td>\n",
       "      <td>2</td>\n",
       "    </tr>\n",
       "  </tbody>\n",
       "</table>\n",
       "</div>"
      ],
      "text/plain": [
       "     Pclass  Sex   Age  SibSp  Parch      Fare  Embarked\n",
       "891       3    1  34.5      0      0  2.178064         1\n",
       "892       3    0  47.0      1      0  2.079442         2\n",
       "893       2    1  62.0      0      0  2.369075         1\n",
       "894       3    1  27.0      0      0  2.268252         2\n",
       "895       3    0  22.0      1      1  2.586824         2"
      ]
     },
     "execution_count": 43,
     "metadata": {},
     "output_type": "execute_result"
    }
   ],
   "source": [
    "# input split for test data\n",
    "X_test = test.drop(columns=['PassengerId', 'Survived'], axis=1)\n",
    "X_test.head()"
   ]
  },
  {
   "cell_type": "markdown",
   "id": "b92efeb7",
   "metadata": {
    "papermill": {
     "duration": 0.030775,
     "end_time": "2024-04-16T16:01:58.410732",
     "exception": false,
     "start_time": "2024-04-16T16:01:58.379957",
     "status": "completed"
    },
    "tags": []
   },
   "source": [
    "We will check the prediction result in the next process."
   ]
  },
  {
   "cell_type": "code",
   "execution_count": 44,
   "id": "27038262",
   "metadata": {
    "execution": {
     "iopub.execute_input": "2024-04-16T16:01:58.474378Z",
     "iopub.status.busy": "2024-04-16T16:01:58.473820Z",
     "iopub.status.idle": "2024-04-16T16:01:58.487547Z",
     "shell.execute_reply": "2024-04-16T16:01:58.486860Z"
    },
    "papermill": {
     "duration": 0.047866,
     "end_time": "2024-04-16T16:01:58.489403",
     "exception": false,
     "start_time": "2024-04-16T16:01:58.441537",
     "status": "completed"
    },
    "tags": []
   },
   "outputs": [
    {
     "data": {
      "text/plain": [
       "array([0., 0., 0., 1., 0., 0., 0., 0., 1., 0., 0., 0., 1., 0., 1., 1., 0.,\n",
       "       1., 1., 1., 0., 0., 1., 1., 1., 0., 1., 1., 1., 0., 0., 0., 0., 0.,\n",
       "       1., 0., 0., 0., 0., 1., 0., 1., 0., 1., 1., 0., 0., 0., 1., 1., 1.,\n",
       "       0., 1., 1., 0., 0., 0., 0., 0., 1., 0., 0., 0., 1., 1., 1., 1., 0.,\n",
       "       0., 1., 1., 0., 0., 0., 1., 1., 0., 1., 0., 1., 1., 0., 0., 0., 0.,\n",
       "       0., 1., 1., 1., 1., 0., 0., 1., 0., 1., 0., 1., 0., 0., 0., 1., 0.,\n",
       "       0., 0., 1., 0., 0., 0., 0., 0., 0., 1., 1., 1., 1., 0., 0., 1., 1.,\n",
       "       1., 1., 0., 1., 0., 0., 1., 0., 1., 0., 0., 0., 0., 0., 0., 0., 0.,\n",
       "       0., 0., 0., 0., 0., 1., 0., 0., 1., 0., 0., 0., 1., 0., 1., 0., 0.,\n",
       "       0., 0., 0., 1., 0., 1., 1., 1., 1., 1., 0., 0., 0., 0., 0., 1., 0.,\n",
       "       0., 1., 0., 0., 0., 1., 1., 0., 1., 1., 0., 0., 1., 0., 1., 0., 1.,\n",
       "       0., 0., 0., 0., 0., 0., 0., 1., 0., 1., 0., 0., 0., 1., 1., 0., 1.,\n",
       "       0., 0., 0., 0., 1., 0., 0., 0., 0., 1., 0., 0., 1., 0., 1., 0., 1.,\n",
       "       0., 1., 0., 1., 0., 0., 1., 0., 0., 0., 1., 0., 0., 1., 0., 0., 1.,\n",
       "       1., 1., 1., 1., 0., 0., 0., 0., 1., 0., 1., 0., 1., 0., 0., 0., 0.,\n",
       "       0., 0., 0., 1., 0., 0., 0., 1., 1., 0., 0., 0., 0., 0., 0., 0., 0.,\n",
       "       1., 1., 0., 1., 0., 0., 0., 0., 0., 1., 1., 0., 1., 0., 0., 0., 0.,\n",
       "       0., 0., 0., 0., 0., 0., 0., 1., 0., 0., 0., 0., 0., 0., 0., 1., 1.,\n",
       "       0., 1., 0., 0., 0., 1., 0., 0., 1., 1., 0., 0., 0., 0., 0., 0., 0.,\n",
       "       1., 1., 0., 1., 0., 0., 0., 1., 0., 0., 1., 0., 0., 1., 0., 0., 0.,\n",
       "       0., 0., 0., 1., 0., 1., 0., 1., 0., 1., 1., 0., 0., 0., 1., 0., 1.,\n",
       "       0., 0., 1., 0., 1., 1., 1., 1., 0., 0., 0., 1., 0., 0., 1., 0., 0.,\n",
       "       1., 1., 0., 0., 0., 1., 0., 0., 0., 1., 0., 1., 0., 0., 0., 0., 0.,\n",
       "       1., 0., 0., 0., 1., 0., 1., 0., 0., 1., 0., 1., 0., 0., 0., 0., 0.,\n",
       "       1., 1., 1., 1., 0., 0., 1., 0., 0., 1.])"
      ]
     },
     "execution_count": 44,
     "metadata": {},
     "output_type": "execute_result"
    }
   ],
   "source": [
    "pred = model.predict(X_test)\n",
    "pred"
   ]
  },
  {
   "cell_type": "markdown",
   "id": "277d0e8b",
   "metadata": {
    "papermill": {
     "duration": 0.031144,
     "end_time": "2024-04-16T16:01:58.551605",
     "exception": false,
     "start_time": "2024-04-16T16:01:58.520461",
     "status": "completed"
    },
    "tags": []
   },
   "source": [
    "- The predicted data will be in the form of an array.\n",
    "\n",
    "- The predicted values will be in float format.\n",
    "\n",
    "- We have to create a new data frame to store this predicted data."
   ]
  },
  {
   "cell_type": "markdown",
   "id": "e31afe9c",
   "metadata": {
    "papermill": {
     "duration": 0.031531,
     "end_time": "2024-04-16T16:01:58.616908",
     "exception": false,
     "start_time": "2024-04-16T16:01:58.585377",
     "status": "completed"
    },
    "tags": []
   },
   "source": [
    "# Test Submission\n",
    "\n",
    "In the last step of the project, we will use the submission template to submit our predicted results. We have to submit the predicted data in PassengerId and Survived column."
   ]
  },
  {
   "cell_type": "code",
   "execution_count": 45,
   "id": "a970222a",
   "metadata": {
    "execution": {
     "iopub.execute_input": "2024-04-16T16:01:58.682393Z",
     "iopub.status.busy": "2024-04-16T16:01:58.681837Z",
     "iopub.status.idle": "2024-04-16T16:01:58.696386Z",
     "shell.execute_reply": "2024-04-16T16:01:58.695689Z"
    },
    "papermill": {
     "duration": 0.049604,
     "end_time": "2024-04-16T16:01:58.698404",
     "exception": false,
     "start_time": "2024-04-16T16:01:58.648800",
     "status": "completed"
    },
    "tags": []
   },
   "outputs": [
    {
     "data": {
      "text/html": [
       "<div>\n",
       "<style scoped>\n",
       "    .dataframe tbody tr th:only-of-type {\n",
       "        vertical-align: middle;\n",
       "    }\n",
       "\n",
       "    .dataframe tbody tr th {\n",
       "        vertical-align: top;\n",
       "    }\n",
       "\n",
       "    .dataframe thead th {\n",
       "        text-align: right;\n",
       "    }\n",
       "</style>\n",
       "<table border=\"1\" class=\"dataframe\">\n",
       "  <thead>\n",
       "    <tr style=\"text-align: right;\">\n",
       "      <th></th>\n",
       "      <th>PassengerId</th>\n",
       "      <th>Survived</th>\n",
       "    </tr>\n",
       "  </thead>\n",
       "  <tbody>\n",
       "    <tr>\n",
       "      <th>0</th>\n",
       "      <td>892</td>\n",
       "      <td>0</td>\n",
       "    </tr>\n",
       "    <tr>\n",
       "      <th>1</th>\n",
       "      <td>893</td>\n",
       "      <td>1</td>\n",
       "    </tr>\n",
       "    <tr>\n",
       "      <th>2</th>\n",
       "      <td>894</td>\n",
       "      <td>0</td>\n",
       "    </tr>\n",
       "    <tr>\n",
       "      <th>3</th>\n",
       "      <td>895</td>\n",
       "      <td>0</td>\n",
       "    </tr>\n",
       "    <tr>\n",
       "      <th>4</th>\n",
       "      <td>896</td>\n",
       "      <td>1</td>\n",
       "    </tr>\n",
       "  </tbody>\n",
       "</table>\n",
       "</div>"
      ],
      "text/plain": [
       "   PassengerId  Survived\n",
       "0          892         0\n",
       "1          893         1\n",
       "2          894         0\n",
       "3          895         0\n",
       "4          896         1"
      ]
     },
     "execution_count": 45,
     "metadata": {},
     "output_type": "execute_result"
    }
   ],
   "source": [
    "sub = pd.read_csv('/kaggle/input/titanic/gender_submission.csv')\n",
    "sub.head()"
   ]
  },
  {
   "cell_type": "code",
   "execution_count": 46,
   "id": "3bfcfe59",
   "metadata": {
    "execution": {
     "iopub.execute_input": "2024-04-16T16:01:58.764588Z",
     "iopub.status.busy": "2024-04-16T16:01:58.763912Z",
     "iopub.status.idle": "2024-04-16T16:01:58.775333Z",
     "shell.execute_reply": "2024-04-16T16:01:58.772736Z"
    },
    "papermill": {
     "duration": 0.046119,
     "end_time": "2024-04-16T16:01:58.777405",
     "exception": false,
     "start_time": "2024-04-16T16:01:58.731286",
     "status": "completed"
    },
    "tags": []
   },
   "outputs": [
    {
     "name": "stdout",
     "output_type": "stream",
     "text": [
      "<class 'pandas.core.frame.DataFrame'>\n",
      "RangeIndex: 418 entries, 0 to 417\n",
      "Data columns (total 2 columns):\n",
      " #   Column       Non-Null Count  Dtype\n",
      "---  ------       --------------  -----\n",
      " 0   PassengerId  418 non-null    int64\n",
      " 1   Survived     418 non-null    int64\n",
      "dtypes: int64(2)\n",
      "memory usage: 6.7 KB\n"
     ]
    }
   ],
   "source": [
    "sub.info()"
   ]
  },
  {
   "cell_type": "markdown",
   "id": "66e4f620",
   "metadata": {
    "papermill": {
     "duration": 0.031524,
     "end_time": "2024-04-16T16:01:58.840992",
     "exception": false,
     "start_time": "2024-04-16T16:01:58.809468",
     "status": "completed"
    },
    "tags": []
   },
   "source": [
    "- The predicted values are in the float format.\n",
    "\n",
    "- Let's change it into integers before submitting the data."
   ]
  },
  {
   "cell_type": "code",
   "execution_count": 47,
   "id": "d8cd53ce",
   "metadata": {
    "execution": {
     "iopub.execute_input": "2024-04-16T16:01:58.906166Z",
     "iopub.status.busy": "2024-04-16T16:01:58.905608Z",
     "iopub.status.idle": "2024-04-16T16:01:58.910145Z",
     "shell.execute_reply": "2024-04-16T16:01:58.909452Z"
    },
    "papermill": {
     "duration": 0.039434,
     "end_time": "2024-04-16T16:01:58.912033",
     "exception": false,
     "start_time": "2024-04-16T16:01:58.872599",
     "status": "completed"
    },
    "tags": []
   },
   "outputs": [],
   "source": [
    "sub['Survived'] = pred\n",
    "sub['Survived'] = sub['Survived'].astype('int')"
   ]
  },
  {
   "cell_type": "code",
   "execution_count": 48,
   "id": "d00ddfb6",
   "metadata": {
    "execution": {
     "iopub.execute_input": "2024-04-16T16:01:58.976958Z",
     "iopub.status.busy": "2024-04-16T16:01:58.976398Z",
     "iopub.status.idle": "2024-04-16T16:01:58.983859Z",
     "shell.execute_reply": "2024-04-16T16:01:58.983110Z"
    },
    "papermill": {
     "duration": 0.042186,
     "end_time": "2024-04-16T16:01:58.985682",
     "exception": false,
     "start_time": "2024-04-16T16:01:58.943496",
     "status": "completed"
    },
    "tags": []
   },
   "outputs": [
    {
     "data": {
      "text/html": [
       "<div>\n",
       "<style scoped>\n",
       "    .dataframe tbody tr th:only-of-type {\n",
       "        vertical-align: middle;\n",
       "    }\n",
       "\n",
       "    .dataframe tbody tr th {\n",
       "        vertical-align: top;\n",
       "    }\n",
       "\n",
       "    .dataframe thead th {\n",
       "        text-align: right;\n",
       "    }\n",
       "</style>\n",
       "<table border=\"1\" class=\"dataframe\">\n",
       "  <thead>\n",
       "    <tr style=\"text-align: right;\">\n",
       "      <th></th>\n",
       "      <th>PassengerId</th>\n",
       "      <th>Survived</th>\n",
       "    </tr>\n",
       "  </thead>\n",
       "  <tbody>\n",
       "    <tr>\n",
       "      <th>0</th>\n",
       "      <td>892</td>\n",
       "      <td>0</td>\n",
       "    </tr>\n",
       "    <tr>\n",
       "      <th>1</th>\n",
       "      <td>893</td>\n",
       "      <td>0</td>\n",
       "    </tr>\n",
       "    <tr>\n",
       "      <th>2</th>\n",
       "      <td>894</td>\n",
       "      <td>0</td>\n",
       "    </tr>\n",
       "    <tr>\n",
       "      <th>3</th>\n",
       "      <td>895</td>\n",
       "      <td>1</td>\n",
       "    </tr>\n",
       "    <tr>\n",
       "      <th>4</th>\n",
       "      <td>896</td>\n",
       "      <td>0</td>\n",
       "    </tr>\n",
       "  </tbody>\n",
       "</table>\n",
       "</div>"
      ],
      "text/plain": [
       "   PassengerId  Survived\n",
       "0          892         0\n",
       "1          893         0\n",
       "2          894         0\n",
       "3          895         1\n",
       "4          896         0"
      ]
     },
     "execution_count": 48,
     "metadata": {},
     "output_type": "execute_result"
    }
   ],
   "source": [
    "sub.head()"
   ]
  },
  {
   "cell_type": "code",
   "execution_count": 49,
   "id": "bd3f488f",
   "metadata": {
    "execution": {
     "iopub.execute_input": "2024-04-16T16:01:59.050662Z",
     "iopub.status.busy": "2024-04-16T16:01:59.050096Z",
     "iopub.status.idle": "2024-04-16T16:01:59.056371Z",
     "shell.execute_reply": "2024-04-16T16:01:59.055691Z"
    },
    "papermill": {
     "duration": 0.040934,
     "end_time": "2024-04-16T16:01:59.058206",
     "exception": false,
     "start_time": "2024-04-16T16:01:59.017272",
     "status": "completed"
    },
    "tags": []
   },
   "outputs": [],
   "source": [
    "sub.to_csv(\"submission.csv\", index = False)"
   ]
  },
  {
   "cell_type": "markdown",
   "id": "a4a5b137",
   "metadata": {
    "papermill": {
     "duration": 0.031039,
     "end_time": "2024-04-16T16:01:59.120844",
     "exception": false,
     "start_time": "2024-04-16T16:01:59.089805",
     "status": "completed"
    },
    "tags": []
   },
   "source": [
    "- index=false will drop the index and save the two columns."
   ]
  },
  {
   "cell_type": "markdown",
   "id": "bb2c8f6a",
   "metadata": {
    "papermill": {
     "duration": 0.030951,
     "end_time": "2024-04-16T16:01:59.183218",
     "exception": false,
     "start_time": "2024-04-16T16:01:59.152267",
     "status": "completed"
    },
    "tags": []
   },
   "source": [
    "## Thank You for Visiting!\n",
    "\n",
    "Thank you so much for taking the time to visit my Kaggle notebook! I hope you found the analysis informative and helpful. Your interest and support mean a lot to me.\n",
    "\n",
    "If you have any questions, suggestions, or feedback, please feel free to leave a comment or reach out to me. Your input is invaluable in helping me improve and grow as a data scientist.\n",
    "\n",
    "Once again, thank you for stopping by! Wishing you all the best in your data science journey.\n",
    "\n",
    "Best regards,  \n",
    "Akanksha"
   ]
  }
 ],
 "metadata": {
  "kaggle": {
   "accelerator": "none",
   "dataSources": [
    {
     "databundleVersionId": 26502,
     "sourceId": 3136,
     "sourceType": "competition"
    }
   ],
   "dockerImageVersionId": 30684,
   "isGpuEnabled": false,
   "isInternetEnabled": true,
   "language": "python",
   "sourceType": "notebook"
  },
  "kernelspec": {
   "display_name": "Python 3",
   "language": "python",
   "name": "python3"
  },
  "language_info": {
   "codemirror_mode": {
    "name": "ipython",
    "version": 3
   },
   "file_extension": ".py",
   "mimetype": "text/x-python",
   "name": "python",
   "nbconvert_exporter": "python",
   "pygments_lexer": "ipython3",
   "version": "3.10.13"
  },
  "papermill": {
   "default_parameters": {},
   "duration": 28.14201,
   "end_time": "2024-04-16T16:01:59.833559",
   "environment_variables": {},
   "exception": null,
   "input_path": "__notebook__.ipynb",
   "output_path": "__notebook__.ipynb",
   "parameters": {},
   "start_time": "2024-04-16T16:01:31.691549",
   "version": "2.5.0"
  }
 },
 "nbformat": 4,
 "nbformat_minor": 5
}
